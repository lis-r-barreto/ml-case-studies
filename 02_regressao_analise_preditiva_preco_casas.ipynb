{
  "nbformat": 4,
  "nbformat_minor": 0,
  "metadata": {
    "colab": {
      "provenance": [],
      "authorship_tag": "ABX9TyPJKLq2NR5Ayu1Ykr0CIjgR",
      "include_colab_link": true
    },
    "kernelspec": {
      "name": "python3",
      "display_name": "Python 3"
    },
    "language_info": {
      "name": "python"
    }
  },
  "cells": [
    {
      "cell_type": "markdown",
      "metadata": {
        "id": "view-in-github",
        "colab_type": "text"
      },
      "source": [
        "<a href=\"https://colab.research.google.com/github/lis-r-barreto/ml-case-studies/blob/main/02_regressao_analise_preditiva_preco_casas.ipynb\" target=\"_parent\"><img src=\"https://colab.research.google.com/assets/colab-badge.svg\" alt=\"Open In Colab\"/></a>"
      ]
    },
    {
      "cell_type": "markdown",
      "source": [
        "# **King County House Price Predictor: Uma Análise Preditiva com Modelos de Regressão**"
      ],
      "metadata": {
        "id": "2CKfZyfF6zJY"
      }
    },
    {
      "cell_type": "markdown",
      "source": [
        "## **0. Setup Inicial**"
      ],
      "metadata": {
        "id": "OfdWL8996Nlc"
      }
    },
    {
      "cell_type": "code",
      "source": [
        "!pip install --quiet numpy pandas scikit-learn kagglehub\n",
        "\n",
        "import kagglehub\n",
        "import numpy as np\n",
        "import pandas as pd\n",
        "from sklearn.preprocessing import StandardScaler\n",
        "from sklearn.model_selection import train_test_split\n",
        "from sklearn.metrics import mean_absolute_error, mean_squared_error, mean_absolute_percentage_error\n",
        "from sklearn.linear_model import LinearRegression\n",
        "from sklearn.neighbors import KNeighborsRegressor\n",
        "from sklearn.svm import SVR\n",
        "from sklearn.tree import DecisionTreeRegressor\n",
        "from xgboost import XGBRegressor"
      ],
      "metadata": {
        "id": "aR_M7SOK0DEJ"
      },
      "execution_count": null,
      "outputs": []
    },
    {
      "cell_type": "markdown",
      "source": [
        "## **1. Introdução**"
      ],
      "metadata": {
        "id": "dPEqXCTB5hZP"
      }
    },
    {
      "cell_type": "markdown",
      "source": [
        "Este notebook tem como objetivo explorar e comparar o desempenho de diferentes modelos de **regressão** no conjunto de dados **House Sales in King County, USA**, com foco na previsão de preços de casas na região. O dataset abrange informações sobre vendas de imóveis no Condado de King, que inclui a cidade de Seattle, ocorridas entre maio de 2014 e maio de 2015.\n",
        "\n",
        "Esse conjunto de dados é amplamente utilizado para avaliar tanto modelos de regressão simples quanto complexos, tornando-o uma excelente escolha para experimentação e comparação de algoritmos. Ele contém diversas características relevantes dos imóveis, como tamanho, número de quartos, localização geográfica e outras variáveis que influenciam diretamente o preço de venda.\n",
        "\n",
        "O dataset inclui as seguintes colunas principais:\n",
        "\n",
        "- **Preço da casa**: Variável alvo, representando o valor de venda do imóvel.\n",
        "- **Quartos**: Número de quartos no imóvel.\n",
        "- **Banheiros**: Número de banheiros.\n",
        "- **Área construída (sqft)**: Tamanho total da área construída do imóvel.\n",
        "- **Localização**: Coordenadas geográficas (latitude e longitude) que indicam onde o imóvel está situado.\n",
        "- **Ano de construção**: Ano em que a casa foi construída.\n",
        "- **Área do terreno**: Tamanho total do terreno associado ao imóvel.\n",
        "- **Andares**: Número de andares na casa.\n",
        "- **Vista para água**: Indica se o imóvel possui vista para a água (sim ou não).\n",
        "- **Outras características**: Incluem informações como reformas recentes, classificação do imóvel e outros atributos relevantes.\n",
        "\n",
        "<img src=\"https://miro.medium.com/v2/resize:fit:640/1*lU8nD0goCPP8Y_atONQm7g.jpeg\" alt=\"House Sales dataset\" width=\"600\"/>\n",
        "\n",
        "\n",
        "Nosso objetivo é comparar diferentes modelos de regressão para prever o preço de venda das casas com base nas características fornecidas pelo dataset. Para isso, testaremos os seguintes algoritmos:\n",
        "\n",
        "1. **Regressão Linear**: Um modelo clássico e interpretável, ideal para problemas de regressão.\n",
        "2. **KNN Regressor**: Modelo baseado na proximidade dos vizinhos mais próximos.\n",
        "3. **SVR (Support Vector Regression)**: Uma abordagem robusta que utiliza máquinas de vetores de suporte.\n",
        "4. **Regressão de Árvore de Decisão**: Modelo baseado em regras de decisão hierárquicas.\n",
        "5. **Gradient Boosting (XGBoost ou LightGBM)**: Um modelo poderoso de ensemble que combina múltiplos modelos fracos para melhorar o desempenho.\n",
        "\n",
        "\n",
        "Os modelos serão avaliados utilizando as seguintes métricas:\n",
        "\n",
        "- **Erro Médio Absoluto (MAE)**: Mede o erro médio absoluto entre os valores previstos e reais, fornecendo uma visão direta da precisão do modelo.\n",
        "- **Erro Quadrático Médio (MSE)**: Penaliza erros maiores de forma quadrática, destacando desvios significativos.\n",
        "- **R² (Coeficiente de Determinação)**: Indica quão bem o modelo explica a variabilidade dos dados, sendo uma medida de ajuste global.\n",
        "\n",
        "Ao final deste estudo, analisaremos os resultados obtidos por cada modelo e identificaremos qual abordagem apresenta o melhor desempenho para prever os preços de casas no Condado de King. Isso permitirá uma compreensão mais profunda sobre a aplicabilidade e eficácia de diferentes técnicas de regressão neste contexto."
      ],
      "metadata": {
        "id": "LHFUXFsj1swn"
      }
    },
    {
      "cell_type": "markdown",
      "source": [],
      "metadata": {
        "id": "0uH80H4n6xv-"
      }
    },
    {
      "cell_type": "markdown",
      "source": [
        "## **2. Metodologia**"
      ],
      "metadata": {
        "id": "IHj7AtTv6fJR"
      }
    },
    {
      "cell_type": "markdown",
      "source": [
        "Neste projeto, adotaremos a metodologia **CRISP-DM** (*Cross Industry Standard Process for Data Mining*), um dos frameworks mais utilizados em projetos de ciência de dados.\n",
        "\n",
        "<img src=\"https://cdn.prod.website-files.com/625af9ac050b6e6379b3c444/6791115bc23efadebc44f017_6480acb9f030976b53cf48bd_1-crisp-dm-as-etapas-da-metodologia.png\" alt=\"CRISP-DM\" width=\"500\"/>\n",
        "\n",
        "🔗 Saiba mais: [Entenda o CRISP-DM](https://www.preditiva.ai/blog/entenda-o-crisp-dm-suas-etapas-e-como-de-fato-gerar-valor-com-essa-metodologia)\n",
        "\n",
        "Como o *dataset* **House Sales in King County, USA** já está estruturado e amplamente estudado, **as fases de \"Business Understanding\" e \"Data Understanding\" já foram concluídas**. Dessa forma, daremos continuidade a partir da etapa de **Preparação dos Dados**, realizando:\n",
        "\n",
        "- **Tratamento de valores ausentes**: Identificação e correção de dados faltantes.\n",
        "- **Normalização ou padronização**: Se necessário, ajustaremos as escalas das variáveis para melhorar o desempenho dos modelos.\n",
        "- **Transformação e codificação de variáveis**: Conversão de variáveis categóricas em numéricas (se aplicável).\n",
        "- **Divisão dos dados em treino e teste**: Separação do dataset para treinamento e validação dos modelos.\n",
        "\n",
        "Na fase de **Modelagem**, aplicaremos diferentes algoritmos de aprendizado de máquina para prever os preços das casas, incluindo:\n",
        "1. **Regressão Linear**: Modelo clássico e interpretável.\n",
        "2. **KNN Regressor**: Modelo baseado na proximidade dos vizinhos mais próximos.\n",
        "3. **SVR (Support Vector Regression)**: Abordagem robusta com máquinas de vetores de suporte.\n",
        "4. **Regressão de Árvore de Decisão**: Modelo baseado em regras de decisão hierárquicas.\n",
        "5. **Gradient Boosting (XGBoost ou LightGBM)**: Modelo poderoso de ensemble.\n",
        "\n",
        "Avaliaremos o desempenho dos modelos utilizando métricas como:\n",
        "- **MAE (Erro Médio Absoluto)**: Erro médio entre valores reais e previstos.\n",
        "- **MSE (Erro Quadrático Médio)**: Penaliza erros maiores.\n",
        "- **R² (Coeficiente de Determinação)**: Mede o ajuste do modelo aos dados.\n",
        "\n",
        "A etapa de **Avaliação** nos permitirá comparar os modelos e identificar a abordagem mais eficaz para prever os preços de casas no Condado de King.\n",
        "\n",
        "Embora a **implantação (Deployment)** não seja o foco deste estudo, a análise contribuirá para entender qual modelo poderia ser utilizado em uma aplicação real, como sistemas de recomendação de preços para o mercado imobiliário."
      ],
      "metadata": {
        "id": "b860ztsj51tQ"
      }
    },
    {
      "cell_type": "markdown",
      "source": [
        "## **3. Preparação dos Dados**\n",
        "\n"
      ],
      "metadata": {
        "id": "7Dm5_JJi5_Ki"
      }
    },
    {
      "cell_type": "code",
      "source": [
        "# Download latest version\n",
        "path = kagglehub.dataset_download(\"harlfoxem/housesalesprediction\")\n",
        "\n",
        "print(\"Path to dataset files:\", path)\n",
        "\n",
        "df = pd.read_csv(f'{path}/kc_house_data.csv')\n",
        "df.head()"
      ],
      "metadata": {
        "colab": {
          "base_uri": "https://localhost:8080/",
          "height": 290
        },
        "id": "8j-kX4tq0P3m",
        "outputId": "b3567a95-b605-4ea7-d07a-5511222d842b"
      },
      "execution_count": 70,
      "outputs": [
        {
          "output_type": "stream",
          "name": "stdout",
          "text": [
            "Warning: Looks like you're using an outdated `kagglehub` version (installed: 0.3.6), please consider upgrading to the latest version (0.3.7).\n",
            "Path to dataset files: /root/.cache/kagglehub/datasets/harlfoxem/housesalesprediction/versions/1\n"
          ]
        },
        {
          "output_type": "execute_result",
          "data": {
            "text/plain": [
              "           id             date     price  bedrooms  bathrooms  sqft_living  \\\n",
              "0  7129300520  20141013T000000  221900.0         3       1.00         1180   \n",
              "1  6414100192  20141209T000000  538000.0         3       2.25         2570   \n",
              "2  5631500400  20150225T000000  180000.0         2       1.00          770   \n",
              "3  2487200875  20141209T000000  604000.0         4       3.00         1960   \n",
              "4  1954400510  20150218T000000  510000.0         3       2.00         1680   \n",
              "\n",
              "   sqft_lot  floors  waterfront  view  ...  grade  sqft_above  sqft_basement  \\\n",
              "0      5650     1.0           0     0  ...      7        1180              0   \n",
              "1      7242     2.0           0     0  ...      7        2170            400   \n",
              "2     10000     1.0           0     0  ...      6         770              0   \n",
              "3      5000     1.0           0     0  ...      7        1050            910   \n",
              "4      8080     1.0           0     0  ...      8        1680              0   \n",
              "\n",
              "   yr_built  yr_renovated  zipcode      lat     long  sqft_living15  \\\n",
              "0      1955             0    98178  47.5112 -122.257           1340   \n",
              "1      1951          1991    98125  47.7210 -122.319           1690   \n",
              "2      1933             0    98028  47.7379 -122.233           2720   \n",
              "3      1965             0    98136  47.5208 -122.393           1360   \n",
              "4      1987             0    98074  47.6168 -122.045           1800   \n",
              "\n",
              "   sqft_lot15  \n",
              "0        5650  \n",
              "1        7639  \n",
              "2        8062  \n",
              "3        5000  \n",
              "4        7503  \n",
              "\n",
              "[5 rows x 21 columns]"
            ],
            "text/html": [
              "\n",
              "  <div id=\"df-a3f71e38-bea5-4b60-b798-e7290a020db8\" class=\"colab-df-container\">\n",
              "    <div>\n",
              "<style scoped>\n",
              "    .dataframe tbody tr th:only-of-type {\n",
              "        vertical-align: middle;\n",
              "    }\n",
              "\n",
              "    .dataframe tbody tr th {\n",
              "        vertical-align: top;\n",
              "    }\n",
              "\n",
              "    .dataframe thead th {\n",
              "        text-align: right;\n",
              "    }\n",
              "</style>\n",
              "<table border=\"1\" class=\"dataframe\">\n",
              "  <thead>\n",
              "    <tr style=\"text-align: right;\">\n",
              "      <th></th>\n",
              "      <th>id</th>\n",
              "      <th>date</th>\n",
              "      <th>price</th>\n",
              "      <th>bedrooms</th>\n",
              "      <th>bathrooms</th>\n",
              "      <th>sqft_living</th>\n",
              "      <th>sqft_lot</th>\n",
              "      <th>floors</th>\n",
              "      <th>waterfront</th>\n",
              "      <th>view</th>\n",
              "      <th>...</th>\n",
              "      <th>grade</th>\n",
              "      <th>sqft_above</th>\n",
              "      <th>sqft_basement</th>\n",
              "      <th>yr_built</th>\n",
              "      <th>yr_renovated</th>\n",
              "      <th>zipcode</th>\n",
              "      <th>lat</th>\n",
              "      <th>long</th>\n",
              "      <th>sqft_living15</th>\n",
              "      <th>sqft_lot15</th>\n",
              "    </tr>\n",
              "  </thead>\n",
              "  <tbody>\n",
              "    <tr>\n",
              "      <th>0</th>\n",
              "      <td>7129300520</td>\n",
              "      <td>20141013T000000</td>\n",
              "      <td>221900.0</td>\n",
              "      <td>3</td>\n",
              "      <td>1.00</td>\n",
              "      <td>1180</td>\n",
              "      <td>5650</td>\n",
              "      <td>1.0</td>\n",
              "      <td>0</td>\n",
              "      <td>0</td>\n",
              "      <td>...</td>\n",
              "      <td>7</td>\n",
              "      <td>1180</td>\n",
              "      <td>0</td>\n",
              "      <td>1955</td>\n",
              "      <td>0</td>\n",
              "      <td>98178</td>\n",
              "      <td>47.5112</td>\n",
              "      <td>-122.257</td>\n",
              "      <td>1340</td>\n",
              "      <td>5650</td>\n",
              "    </tr>\n",
              "    <tr>\n",
              "      <th>1</th>\n",
              "      <td>6414100192</td>\n",
              "      <td>20141209T000000</td>\n",
              "      <td>538000.0</td>\n",
              "      <td>3</td>\n",
              "      <td>2.25</td>\n",
              "      <td>2570</td>\n",
              "      <td>7242</td>\n",
              "      <td>2.0</td>\n",
              "      <td>0</td>\n",
              "      <td>0</td>\n",
              "      <td>...</td>\n",
              "      <td>7</td>\n",
              "      <td>2170</td>\n",
              "      <td>400</td>\n",
              "      <td>1951</td>\n",
              "      <td>1991</td>\n",
              "      <td>98125</td>\n",
              "      <td>47.7210</td>\n",
              "      <td>-122.319</td>\n",
              "      <td>1690</td>\n",
              "      <td>7639</td>\n",
              "    </tr>\n",
              "    <tr>\n",
              "      <th>2</th>\n",
              "      <td>5631500400</td>\n",
              "      <td>20150225T000000</td>\n",
              "      <td>180000.0</td>\n",
              "      <td>2</td>\n",
              "      <td>1.00</td>\n",
              "      <td>770</td>\n",
              "      <td>10000</td>\n",
              "      <td>1.0</td>\n",
              "      <td>0</td>\n",
              "      <td>0</td>\n",
              "      <td>...</td>\n",
              "      <td>6</td>\n",
              "      <td>770</td>\n",
              "      <td>0</td>\n",
              "      <td>1933</td>\n",
              "      <td>0</td>\n",
              "      <td>98028</td>\n",
              "      <td>47.7379</td>\n",
              "      <td>-122.233</td>\n",
              "      <td>2720</td>\n",
              "      <td>8062</td>\n",
              "    </tr>\n",
              "    <tr>\n",
              "      <th>3</th>\n",
              "      <td>2487200875</td>\n",
              "      <td>20141209T000000</td>\n",
              "      <td>604000.0</td>\n",
              "      <td>4</td>\n",
              "      <td>3.00</td>\n",
              "      <td>1960</td>\n",
              "      <td>5000</td>\n",
              "      <td>1.0</td>\n",
              "      <td>0</td>\n",
              "      <td>0</td>\n",
              "      <td>...</td>\n",
              "      <td>7</td>\n",
              "      <td>1050</td>\n",
              "      <td>910</td>\n",
              "      <td>1965</td>\n",
              "      <td>0</td>\n",
              "      <td>98136</td>\n",
              "      <td>47.5208</td>\n",
              "      <td>-122.393</td>\n",
              "      <td>1360</td>\n",
              "      <td>5000</td>\n",
              "    </tr>\n",
              "    <tr>\n",
              "      <th>4</th>\n",
              "      <td>1954400510</td>\n",
              "      <td>20150218T000000</td>\n",
              "      <td>510000.0</td>\n",
              "      <td>3</td>\n",
              "      <td>2.00</td>\n",
              "      <td>1680</td>\n",
              "      <td>8080</td>\n",
              "      <td>1.0</td>\n",
              "      <td>0</td>\n",
              "      <td>0</td>\n",
              "      <td>...</td>\n",
              "      <td>8</td>\n",
              "      <td>1680</td>\n",
              "      <td>0</td>\n",
              "      <td>1987</td>\n",
              "      <td>0</td>\n",
              "      <td>98074</td>\n",
              "      <td>47.6168</td>\n",
              "      <td>-122.045</td>\n",
              "      <td>1800</td>\n",
              "      <td>7503</td>\n",
              "    </tr>\n",
              "  </tbody>\n",
              "</table>\n",
              "<p>5 rows × 21 columns</p>\n",
              "</div>\n",
              "    <div class=\"colab-df-buttons\">\n",
              "\n",
              "  <div class=\"colab-df-container\">\n",
              "    <button class=\"colab-df-convert\" onclick=\"convertToInteractive('df-a3f71e38-bea5-4b60-b798-e7290a020db8')\"\n",
              "            title=\"Convert this dataframe to an interactive table.\"\n",
              "            style=\"display:none;\">\n",
              "\n",
              "  <svg xmlns=\"http://www.w3.org/2000/svg\" height=\"24px\" viewBox=\"0 -960 960 960\">\n",
              "    <path d=\"M120-120v-720h720v720H120Zm60-500h600v-160H180v160Zm220 220h160v-160H400v160Zm0 220h160v-160H400v160ZM180-400h160v-160H180v160Zm440 0h160v-160H620v160ZM180-180h160v-160H180v160Zm440 0h160v-160H620v160Z\"/>\n",
              "  </svg>\n",
              "    </button>\n",
              "\n",
              "  <style>\n",
              "    .colab-df-container {\n",
              "      display:flex;\n",
              "      gap: 12px;\n",
              "    }\n",
              "\n",
              "    .colab-df-convert {\n",
              "      background-color: #E8F0FE;\n",
              "      border: none;\n",
              "      border-radius: 50%;\n",
              "      cursor: pointer;\n",
              "      display: none;\n",
              "      fill: #1967D2;\n",
              "      height: 32px;\n",
              "      padding: 0 0 0 0;\n",
              "      width: 32px;\n",
              "    }\n",
              "\n",
              "    .colab-df-convert:hover {\n",
              "      background-color: #E2EBFA;\n",
              "      box-shadow: 0px 1px 2px rgba(60, 64, 67, 0.3), 0px 1px 3px 1px rgba(60, 64, 67, 0.15);\n",
              "      fill: #174EA6;\n",
              "    }\n",
              "\n",
              "    .colab-df-buttons div {\n",
              "      margin-bottom: 4px;\n",
              "    }\n",
              "\n",
              "    [theme=dark] .colab-df-convert {\n",
              "      background-color: #3B4455;\n",
              "      fill: #D2E3FC;\n",
              "    }\n",
              "\n",
              "    [theme=dark] .colab-df-convert:hover {\n",
              "      background-color: #434B5C;\n",
              "      box-shadow: 0px 1px 3px 1px rgba(0, 0, 0, 0.15);\n",
              "      filter: drop-shadow(0px 1px 2px rgba(0, 0, 0, 0.3));\n",
              "      fill: #FFFFFF;\n",
              "    }\n",
              "  </style>\n",
              "\n",
              "    <script>\n",
              "      const buttonEl =\n",
              "        document.querySelector('#df-a3f71e38-bea5-4b60-b798-e7290a020db8 button.colab-df-convert');\n",
              "      buttonEl.style.display =\n",
              "        google.colab.kernel.accessAllowed ? 'block' : 'none';\n",
              "\n",
              "      async function convertToInteractive(key) {\n",
              "        const element = document.querySelector('#df-a3f71e38-bea5-4b60-b798-e7290a020db8');\n",
              "        const dataTable =\n",
              "          await google.colab.kernel.invokeFunction('convertToInteractive',\n",
              "                                                    [key], {});\n",
              "        if (!dataTable) return;\n",
              "\n",
              "        const docLinkHtml = 'Like what you see? Visit the ' +\n",
              "          '<a target=\"_blank\" href=https://colab.research.google.com/notebooks/data_table.ipynb>data table notebook</a>'\n",
              "          + ' to learn more about interactive tables.';\n",
              "        element.innerHTML = '';\n",
              "        dataTable['output_type'] = 'display_data';\n",
              "        await google.colab.output.renderOutput(dataTable, element);\n",
              "        const docLink = document.createElement('div');\n",
              "        docLink.innerHTML = docLinkHtml;\n",
              "        element.appendChild(docLink);\n",
              "      }\n",
              "    </script>\n",
              "  </div>\n",
              "\n",
              "\n",
              "<div id=\"df-0e9f7661-0571-439a-8cb0-eb361bef6828\">\n",
              "  <button class=\"colab-df-quickchart\" onclick=\"quickchart('df-0e9f7661-0571-439a-8cb0-eb361bef6828')\"\n",
              "            title=\"Suggest charts\"\n",
              "            style=\"display:none;\">\n",
              "\n",
              "<svg xmlns=\"http://www.w3.org/2000/svg\" height=\"24px\"viewBox=\"0 0 24 24\"\n",
              "     width=\"24px\">\n",
              "    <g>\n",
              "        <path d=\"M19 3H5c-1.1 0-2 .9-2 2v14c0 1.1.9 2 2 2h14c1.1 0 2-.9 2-2V5c0-1.1-.9-2-2-2zM9 17H7v-7h2v7zm4 0h-2V7h2v10zm4 0h-2v-4h2v4z\"/>\n",
              "    </g>\n",
              "</svg>\n",
              "  </button>\n",
              "\n",
              "<style>\n",
              "  .colab-df-quickchart {\n",
              "      --bg-color: #E8F0FE;\n",
              "      --fill-color: #1967D2;\n",
              "      --hover-bg-color: #E2EBFA;\n",
              "      --hover-fill-color: #174EA6;\n",
              "      --disabled-fill-color: #AAA;\n",
              "      --disabled-bg-color: #DDD;\n",
              "  }\n",
              "\n",
              "  [theme=dark] .colab-df-quickchart {\n",
              "      --bg-color: #3B4455;\n",
              "      --fill-color: #D2E3FC;\n",
              "      --hover-bg-color: #434B5C;\n",
              "      --hover-fill-color: #FFFFFF;\n",
              "      --disabled-bg-color: #3B4455;\n",
              "      --disabled-fill-color: #666;\n",
              "  }\n",
              "\n",
              "  .colab-df-quickchart {\n",
              "    background-color: var(--bg-color);\n",
              "    border: none;\n",
              "    border-radius: 50%;\n",
              "    cursor: pointer;\n",
              "    display: none;\n",
              "    fill: var(--fill-color);\n",
              "    height: 32px;\n",
              "    padding: 0;\n",
              "    width: 32px;\n",
              "  }\n",
              "\n",
              "  .colab-df-quickchart:hover {\n",
              "    background-color: var(--hover-bg-color);\n",
              "    box-shadow: 0 1px 2px rgba(60, 64, 67, 0.3), 0 1px 3px 1px rgba(60, 64, 67, 0.15);\n",
              "    fill: var(--button-hover-fill-color);\n",
              "  }\n",
              "\n",
              "  .colab-df-quickchart-complete:disabled,\n",
              "  .colab-df-quickchart-complete:disabled:hover {\n",
              "    background-color: var(--disabled-bg-color);\n",
              "    fill: var(--disabled-fill-color);\n",
              "    box-shadow: none;\n",
              "  }\n",
              "\n",
              "  .colab-df-spinner {\n",
              "    border: 2px solid var(--fill-color);\n",
              "    border-color: transparent;\n",
              "    border-bottom-color: var(--fill-color);\n",
              "    animation:\n",
              "      spin 1s steps(1) infinite;\n",
              "  }\n",
              "\n",
              "  @keyframes spin {\n",
              "    0% {\n",
              "      border-color: transparent;\n",
              "      border-bottom-color: var(--fill-color);\n",
              "      border-left-color: var(--fill-color);\n",
              "    }\n",
              "    20% {\n",
              "      border-color: transparent;\n",
              "      border-left-color: var(--fill-color);\n",
              "      border-top-color: var(--fill-color);\n",
              "    }\n",
              "    30% {\n",
              "      border-color: transparent;\n",
              "      border-left-color: var(--fill-color);\n",
              "      border-top-color: var(--fill-color);\n",
              "      border-right-color: var(--fill-color);\n",
              "    }\n",
              "    40% {\n",
              "      border-color: transparent;\n",
              "      border-right-color: var(--fill-color);\n",
              "      border-top-color: var(--fill-color);\n",
              "    }\n",
              "    60% {\n",
              "      border-color: transparent;\n",
              "      border-right-color: var(--fill-color);\n",
              "    }\n",
              "    80% {\n",
              "      border-color: transparent;\n",
              "      border-right-color: var(--fill-color);\n",
              "      border-bottom-color: var(--fill-color);\n",
              "    }\n",
              "    90% {\n",
              "      border-color: transparent;\n",
              "      border-bottom-color: var(--fill-color);\n",
              "    }\n",
              "  }\n",
              "</style>\n",
              "\n",
              "  <script>\n",
              "    async function quickchart(key) {\n",
              "      const quickchartButtonEl =\n",
              "        document.querySelector('#' + key + ' button');\n",
              "      quickchartButtonEl.disabled = true;  // To prevent multiple clicks.\n",
              "      quickchartButtonEl.classList.add('colab-df-spinner');\n",
              "      try {\n",
              "        const charts = await google.colab.kernel.invokeFunction(\n",
              "            'suggestCharts', [key], {});\n",
              "      } catch (error) {\n",
              "        console.error('Error during call to suggestCharts:', error);\n",
              "      }\n",
              "      quickchartButtonEl.classList.remove('colab-df-spinner');\n",
              "      quickchartButtonEl.classList.add('colab-df-quickchart-complete');\n",
              "    }\n",
              "    (() => {\n",
              "      let quickchartButtonEl =\n",
              "        document.querySelector('#df-0e9f7661-0571-439a-8cb0-eb361bef6828 button');\n",
              "      quickchartButtonEl.style.display =\n",
              "        google.colab.kernel.accessAllowed ? 'block' : 'none';\n",
              "    })();\n",
              "  </script>\n",
              "</div>\n",
              "\n",
              "    </div>\n",
              "  </div>\n"
            ],
            "application/vnd.google.colaboratory.intrinsic+json": {
              "type": "dataframe",
              "variable_name": "df"
            }
          },
          "metadata": {},
          "execution_count": 70
        }
      ]
    },
    {
      "cell_type": "code",
      "source": [
        "df = df[['id', 'date', 'price', 'bedrooms', 'bathrooms', 'sqft_living', 'sqft_lot', 'floors', 'waterfront']]\n",
        "\n",
        "colunas_para_remover = ['id', 'date']\n",
        "df = df.drop(colunas_para_remover, axis=1)\n",
        "\n",
        "rows, cols = df.shape\n",
        "print(f'Linhas: {rows}. Colunas: {cols}')"
      ],
      "metadata": {
        "colab": {
          "base_uri": "https://localhost:8080/"
        },
        "id": "_1tojSsK01Ks",
        "outputId": "ecf6b891-5cc9-4729-901c-cee514c997dc"
      },
      "execution_count": null,
      "outputs": [
        {
          "output_type": "stream",
          "name": "stdout",
          "text": [
            "Linhas: 21613. Colunas: 7\n"
          ]
        }
      ]
    },
    {
      "cell_type": "code",
      "source": [
        "x = df.drop('price', axis=1)\n",
        "y = df['price']"
      ],
      "metadata": {
        "id": "pZbQ9DkO08G8"
      },
      "execution_count": null,
      "outputs": []
    },
    {
      "cell_type": "code",
      "source": [
        "# normalização dos dados\n",
        "min_max_scaler = StandardScaler()\n",
        "x = min_max_scaler.fit_transform(x)"
      ],
      "metadata": {
        "id": "8bQ42fDW1BZ0"
      },
      "execution_count": null,
      "outputs": []
    },
    {
      "cell_type": "code",
      "source": [
        "def split_data(x, y):\n",
        "  x_train, x_test, y_train, y_test = train_test_split(x, y, test_size=0.3, random_state=23)\n",
        "  return x_train, x_test, y_train, y_test\n",
        "\n",
        "x_train, x_test, y_train, y_test = split_data(x, y)"
      ],
      "metadata": {
        "id": "0k8ja90G1LVz"
      },
      "execution_count": null,
      "outputs": []
    },
    {
      "cell_type": "markdown",
      "source": [
        "## **4. Modelagem**"
      ],
      "metadata": {
        "id": "1R28AQxp6Hp1"
      }
    },
    {
      "cell_type": "markdown",
      "source": [
        "### **4.1. Regressão Linear**"
      ],
      "metadata": {
        "id": "PJsywEzL2Gww"
      }
    },
    {
      "cell_type": "code",
      "source": [
        "def linear_regression_predict(x_train, y_train, x_test):\n",
        "  model = LinearRegression()\n",
        "  model.fit(x_train, y_train)\n",
        "  y_pred = model.predict(x_test)\n",
        "  return y_pred\n",
        "\n",
        "  y_pred = linear_regression_predict(x_train, y_train, x_test)\n",
        "  y_pred"
      ],
      "metadata": {
        "id": "MJh3ss0e12EK"
      },
      "execution_count": 52,
      "outputs": []
    },
    {
      "cell_type": "code",
      "source": [
        "def calculate_metrics(y_test, y_pred):\n",
        "  mae = mean_absolute_error(y_test, y_pred)\n",
        "  mse = mean_squared_error(y_test, y_pred)\n",
        "  rmse = np.sqrt(mse)\n",
        "  mape = mean_absolute_percentage_error(y_test, y_pred)\n",
        "\n",
        "  metrics = {\n",
        "      'MAE': mae,\n",
        "      'MSE': mse,\n",
        "      'RMSE': rmse,\n",
        "      'MAPE': mape\n",
        "  }\n",
        "\n",
        "  return metrics\n",
        "\n",
        "print(calculate_metrics(y_test, y_pred))"
      ],
      "metadata": {
        "colab": {
          "base_uri": "https://localhost:8080/"
        },
        "id": "lU6DiAzP14OS",
        "outputId": "001ac396-ff22-43ba-d6bf-864cec73ca07"
      },
      "execution_count": 55,
      "outputs": [
        {
          "output_type": "stream",
          "name": "stdout",
          "text": [
            "{'MAE': 160510.7450030845, 'MSE': 60204595255.74538, 'RMSE': 245366.24718111777, 'MAPE': 0.33017072836739464}\n"
          ]
        }
      ]
    },
    {
      "cell_type": "markdown",
      "source": [
        "### **4.2. KNN Regressor**"
      ],
      "metadata": {
        "id": "1LspeCo62XE5"
      }
    },
    {
      "cell_type": "code",
      "source": [
        "def knn_regressor_predict(x_train, y_train, x_test):\n",
        "  model = KNeighborsRegressor(n_neighbors=5, metric='euclidean')\n",
        "  model.fit(x_train, y_train)\n",
        "  y_pred = model.predict(x_test)\n",
        "  return y_pred\n",
        "\n",
        "y_pred = knn_regressor_predict(x_train, y_train, x_test)\n",
        "\n",
        "print(calculate_metrics(y_test, y_pred))"
      ],
      "metadata": {
        "colab": {
          "base_uri": "https://localhost:8080/"
        },
        "id": "MvW-E6BA2RLx",
        "outputId": "cc9f151e-c323-446b-984f-641b660d74ec"
      },
      "execution_count": 56,
      "outputs": [
        {
          "output_type": "stream",
          "name": "stdout",
          "text": [
            "{'MAE': 160510.7450030845, 'MSE': 60204595255.74538, 'RMSE': 245366.24718111777, 'MAPE': 0.33017072836739464}\n"
          ]
        }
      ]
    },
    {
      "cell_type": "markdown",
      "source": [
        "### **4.3. SVR**"
      ],
      "metadata": {
        "id": "AYgpfpX42cE2"
      }
    },
    {
      "cell_type": "code",
      "source": [
        "def svr_predict(x_train, y_train, x_test):\n",
        "  model = SVR()\n",
        "  model.fit(x_train, y_train)\n",
        "  y_pred = model.predict(x_test)\n",
        "  return y_pred\n",
        "\n",
        "y_pred = svr_predict(x_train, y_train, x_test)\n",
        "print(calculate_metrics(y_test, y_pred))"
      ],
      "metadata": {
        "id": "Yqy9or3J2Z_Y",
        "colab": {
          "base_uri": "https://localhost:8080/"
        },
        "outputId": "8d3c3da7-908b-46a9-f553-c2372adcab3d"
      },
      "execution_count": 59,
      "outputs": [
        {
          "output_type": "stream",
          "name": "stdout",
          "text": [
            "{'MAE': 219091.7766652537, 'MSE': 130199624138.9766, 'RMSE': 360831.85022802046, 'MAPE': 0.4214532788664194}\n"
          ]
        }
      ]
    },
    {
      "cell_type": "code",
      "source": [
        "def svr_predict(x_train, y_train, x_test):\n",
        "  model = SVR(kernel='linear', C=100)\n",
        "  model.fit(x_train, y_train)\n",
        "  y_pred = model.predict(x_test)\n",
        "  return y_pred\n",
        "\n",
        "pred = svr_predict(x_train, y_train, x_test)\n",
        "print(calculate_metrics(y_test, y_pred))"
      ],
      "metadata": {
        "colab": {
          "base_uri": "https://localhost:8080/"
        },
        "id": "y-aLFEi22ipY",
        "outputId": "e870951a-16de-4a76-a7af-d425bc12f408"
      },
      "execution_count": 60,
      "outputs": [
        {
          "output_type": "stream",
          "name": "stdout",
          "text": [
            "{'MAE': 219091.7766652537, 'MSE': 130199624138.9766, 'RMSE': 360831.85022802046, 'MAPE': 0.4214532788664194}\n"
          ]
        }
      ]
    },
    {
      "cell_type": "markdown",
      "source": [
        "### **4.4. Regressão de Árvore de Decisão**"
      ],
      "metadata": {
        "id": "HyjjMloi2sjO"
      }
    },
    {
      "cell_type": "code",
      "source": [
        "def decision_tree_predict(x_train, y_train, x_test):\n",
        "  model = DecisionTreeRegressor()\n",
        "  model.fit(x_train, y_train)\n",
        "  y_pred = model.predict(x_test)\n",
        "  return y_pred\n",
        "\n",
        "y_pred = decision_tree_predict(x_train, y_train, x_test)\n",
        "print(calculate_metrics(y_test, y_pred))"
      ],
      "metadata": {
        "colab": {
          "base_uri": "https://localhost:8080/"
        },
        "id": "K1dqTg4Q2ngI",
        "outputId": "492ae886-7e6e-4ad9-fb0f-fae143fa5648"
      },
      "execution_count": 61,
      "outputs": [
        {
          "output_type": "stream",
          "name": "stdout",
          "text": [
            "{'MAE': 205185.1878213037, 'MSE': 100599298711.26344, 'RMSE': 317173.9250179047, 'MAPE': 0.4113402874330715}\n"
          ]
        }
      ]
    },
    {
      "cell_type": "markdown",
      "source": [
        "### **4.5. XGBoost**"
      ],
      "metadata": {
        "id": "8O8cMfV427Q3"
      }
    },
    {
      "cell_type": "code",
      "source": [
        "def xgboost_predict(x_train, y_train, x_test):\n",
        "  model = XGBRegressor()\n",
        "  model.fit(x_train, y_train)\n",
        "  y_pred = model.predict(x_test)\n",
        "  return y_pred\n",
        "\n",
        "y_pred = xgboost_predict(x_train, y_train, x_test)\n",
        "print(calculate_metrics(y_test, y_pred))"
      ],
      "metadata": {
        "colab": {
          "base_uri": "https://localhost:8080/"
        },
        "id": "_tryV5wL2wBH",
        "outputId": "3903ae88-090b-447e-a604-f38e3e348c7b"
      },
      "execution_count": 62,
      "outputs": [
        {
          "output_type": "stream",
          "name": "stdout",
          "text": [
            "{'MAE': 151281.9136359693, 'MSE': 54032402381.69808, 'RMSE': 232448.70914181924, 'MAPE': 0.3115478188030054}\n"
          ]
        }
      ]
    },
    {
      "cell_type": "code",
      "source": [
        "params = {\"n_estimators\": 100,\n",
        "           \"max_depth\": 6,\n",
        "           \"learning_rate\": 0.1}\n",
        "\n",
        "def xgboost_predict(x_train, y_train, x_test):\n",
        "  model = XGBRegressor(**params)\n",
        "  model.fit(x_train, y_train)\n",
        "  y_pred = model.predict(x_test)\n",
        "  return y_pred\n",
        "\n",
        "y_pred = xgboost_predict(x_train, y_train, x_test)\n",
        "print(calculate_metrics(y_test, y_pred))"
      ],
      "metadata": {
        "colab": {
          "base_uri": "https://localhost:8080/"
        },
        "id": "qD4TbzLb21X3",
        "outputId": "93f48b4f-4c91-40ff-c564-f553041e7e7b"
      },
      "execution_count": 63,
      "outputs": [
        {
          "output_type": "stream",
          "name": "stdout",
          "text": [
            "{'MAE': 147379.14162505785, 'MSE': 50099948746.49795, 'RMSE': 223830.17836408466, 'MAPE': 0.30671574201583884}\n"
          ]
        }
      ]
    },
    {
      "cell_type": "markdown",
      "source": [
        "## **5. Automatização do Treino e Validação**"
      ],
      "metadata": {
        "id": "yB33c7EAbk0i"
      }
    },
    {
      "cell_type": "code",
      "source": [
        "def load_and_prepare_data():\n",
        "    # Download do dataset (se necessário) - Adapte o caminho conforme sua necessidade\n",
        "    path = kagglehub.dataset_download(\"harlfoxem/housesalesprediction\")\n",
        "    df = pd.read_csv(f'{path}/kc_house_data.csv')\n",
        "\n",
        "    df = df[['price', 'bedrooms', 'bathrooms', 'sqft_living', 'sqft_lot', 'floors', 'waterfront']]\n",
        "\n",
        "    # Separando features e target\n",
        "    X = df.drop('price', axis=1)\n",
        "    y = df['price']\n",
        "\n",
        "    # Dividindo em treino e teste\n",
        "    X_train, X_test, y_train, y_test = train_test_split(X, y, test_size=0.3, random_state=23)\n",
        "\n",
        "    # Normalizando os dados\n",
        "    scaler = StandardScaler()\n",
        "    X_train = scaler.fit_transform(X_train)\n",
        "    X_test = scaler.transform(X_test)\n",
        "\n",
        "    return X_train, X_test, y_train, y_test\n",
        "\n",
        "\n",
        "def train_and_evaluate_models(models, X_train, X_test, y_train, y_test):\n",
        "    results = []\n",
        "\n",
        "    for name, model in models.items():\n",
        "        print(f\"Treinando modelo: {name}\")\n",
        "        model.fit(X_train, y_train)\n",
        "        y_pred = model.predict(X_test)\n",
        "\n",
        "        metrics = {\n",
        "            \"Modelo\": name,\n",
        "            \"MAE\": mean_absolute_error(y_test, y_pred),\n",
        "            \"MAPE\": mean_absolute_percentage_error(y_test, y_pred),\n",
        "            \"MSE\": mean_squared_error(y_test, y_pred),\n",
        "            \"RMSE\": np.sqrt(mean_squared_error(y_test, y_pred)),\n",
        "            \"R²\": r2_score(y_test, y_pred)\n",
        "        }\n",
        "\n",
        "        results.append(metrics)\n",
        "\n",
        "    return pd.DataFrame(results)\n",
        "\n",
        "models = {\n",
        "    \"Regressão Linear\": LinearRegression(),\n",
        "    \"KNN\": KNeighborsRegressor(n_neighbors=5, metric='euclidean'),\n",
        "    \"SVR\": SVR(),\n",
        "    \"Árvore de Decisão\": DecisionTreeRegressor(),\n",
        "    \"XGBoost\": XGBRegressor()\n",
        "}\n",
        "\n",
        "# Carregar os dados\n",
        "X_train, X_test, y_train, y_test = load_and_prepare_data()\n",
        "\n",
        "# Treinar e avaliar os modelos\n",
        "df_results = train_and_evaluate_models(models, X_train, X_test, y_train, y_test)\n",
        "\n",
        "# Exibir resultados\n",
        "print(df_results)"
      ],
      "metadata": {
        "colab": {
          "base_uri": "https://localhost:8080/"
        },
        "id": "jvblwdZ2bmZN",
        "outputId": "f04f0058-4653-480f-8663-5a22b5f418d0"
      },
      "execution_count": 78,
      "outputs": [
        {
          "output_type": "stream",
          "name": "stdout",
          "text": [
            "Warning: Looks like you're using an outdated `kagglehub` version (installed: 0.3.6), please consider upgrading to the latest version (0.3.7).\n",
            "Treinando modelo: Regressão Linear\n",
            "Treinando modelo: KNN\n",
            "Treinando modelo: SVR\n",
            "Treinando modelo: Árvore de Decisão\n",
            "Treinando modelo: XGBoost\n",
            "              Modelo            MAE      MAPE           MSE           RMSE  \\\n",
            "0   Regressão Linear  165904.065105  0.346891  5.829043e+10  241434.112635   \n",
            "1                KNN  160295.107557  0.329886  6.008402e+10  245120.425500   \n",
            "2                SVR  219095.949913  0.421456  1.302043e+11  360838.284089   \n",
            "3  Árvore de Decisão  205872.119422  0.412778  1.028603e+11  320718.346298   \n",
            "4            XGBoost  151281.913636  0.311548  5.403240e+10  232448.709142   \n",
            "\n",
            "         R²  \n",
            "0  0.525175  \n",
            "1  0.510565  \n",
            "2 -0.060624  \n",
            "3  0.162116  \n",
            "4  0.559860  \n"
          ]
        }
      ]
    }
  ]
}