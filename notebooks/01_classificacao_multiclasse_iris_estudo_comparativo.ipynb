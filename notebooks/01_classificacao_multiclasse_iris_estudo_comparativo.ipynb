{
 "cells": [
  {
   "cell_type": "markdown",
   "metadata": {
    "colab_type": "text",
    "id": "view-in-github"
   },
   "source": [
    "<a href=\"https://colab.research.google.com/github/lis-r-barreto/ml-case-studies/blob/main/01_classificacao_multiclasse_iris_estudo_comparativo.ipynb\" target=\"_parent\"><img src=\"https://colab.research.google.com/assets/colab-badge.svg\" alt=\"Open In Colab\"/></a>"
   ]
  },
  {
   "cell_type": "markdown",
   "metadata": {
    "id": "RxrqeoeJxu9m"
   },
   "source": [
    "# **Classificação Multiclasse com o Dataset Iris: Um Estudo Comparativo**"
   ]
  },
  {
   "cell_type": "markdown",
   "metadata": {
    "id": "47T-kF3xqxp3"
   },
   "source": [
    "## **0. Setup Inicial**"
   ]
  },
  {
   "cell_type": "code",
   "execution_count": 1,
   "metadata": {
    "id": "EpxhJUX_h6BI"
   },
   "outputs": [],
   "source": [
    "import os\n",
    "import numpy as np\n",
    "import pandas as pd\n",
    "import joblib\n",
    "import matplotlib.pyplot as plt\n",
    "from sklearn.preprocessing import StandardScaler\n",
    "from sklearn.model_selection import train_test_split\n",
    "from sklearn.metrics import accuracy_score, precision_score, recall_score, f1_score\n",
    "from sklearn.linear_model import LogisticRegression\n",
    "from sklearn.neighbors import KNeighborsClassifier\n",
    "from sklearn.tree import DecisionTreeClassifier\n",
    "from sklearn import tree\n",
    "from sklearn.svm import SVC\n",
    "from sklearn.linear_model import Perceptron\n",
    "from sklearn.neural_network import MLPClassifier"
   ]
  },
  {
   "cell_type": "markdown",
   "metadata": {
    "id": "THAijqiDq-aK"
   },
   "source": [
    "## **1. Introdução**"
   ]
  },
  {
   "cell_type": "markdown",
   "metadata": {
    "id": "GwGcrNNQuyR_"
   },
   "source": [
    "Este notebook explora o desempenho de diferentes algoritmos de classificação no clássico *dataset* Iris, comparando sua eficácia em um problema de classificação multiclasse.\n",
    "\n",
    "O *dataset* Iris foi utilizado no artigo de R.A. Fisher (1936) e está disponível no Repositório de *Machine Learning* da UCI. Ele contém 150 amostras de três espécies de íris, cada uma descrita por quatro características:\n",
    "\n",
    "- **SepalLengthCm** (Comprimento da sépala)  \n",
    "- **SepalWidthCm** (Largura da sépala)  \n",
    "- **PetalLengthCm** (Comprimento da pétala)  \n",
    "- **PetalWidthCm** (Largura da pétala)  \n",
    "- **Species** (Espécie da flor)\n",
    "\n",
    "Uma das espécies é linearmente separável das outras duas, que, por sua vez, não são separáveis entre si.\n",
    "\n",
    "<img src=\"https://upload.wikimedia.org/wikipedia/commons/thumb/c/cb/Flores_de_%C3%8Dris.png/1920px-Flores_de_%C3%8Dris.png\" alt=\"Iris Dataset\" width=\"600\"/>\n",
    "\n",
    "Testaremos os seguintes algoritmos:\n",
    "\n",
    "- **Regressão Logística** – Modelo linear clássico para classificação.\n",
    "- **K-Nearest Neighbors (KNN)** – Classificação baseada na proximidade dos vizinhos mais próximos.\n",
    "- **Árvore de Decisão** – Modelo baseado em regras de decisão.\n",
    "- **Support Vector Machine (SVM)** – Busca o melhor hiperplano para separar as classes.\n",
    "- **Redes Neurais** – Modelos Perceptron e MLP (*Multilayer Perceptron*).\n",
    "\n",
    "Os modelos serão comparados usando métricas como acurácia, precisão, revocação e F1-score. Ao final, analisaremos os resultados e identificaremos a abordagem mais eficaz para este problema."
   ]
  },
  {
   "cell_type": "markdown",
   "metadata": {
    "id": "g0oI3Bu3u_J5"
   },
   "source": [
    "## **2. Metodologia**"
   ]
  },
  {
   "cell_type": "markdown",
   "metadata": {
    "id": "zlpUwF5Dve1X"
   },
   "source": [
    "Neste projeto, adotaremos a metodologia **CRISP-DM** (*Cross Industry Standard Process for Data Mining*), um dos frameworks mais utilizados em projetos de ciência de dados.\n",
    "\n",
    "<img src=\"https://cdn.prod.website-files.com/625af9ac050b6e6379b3c444/6791115bc23efadebc44f017_6480acb9f030976b53cf48bd_1-crisp-dm-as-etapas-da-metodologia.png\" alt=\"CRISP-DM\" width=\"500\"/>\n",
    "\n",
    "🔗 Saiba mais: [Entenda o CRISP-DM](https://www.preditiva.ai/blog/entenda-o-crisp-dm-suas-etapas-e-como-de-fato-gerar-valor-com-essa-metodologia)\n",
    "\n",
    "Como o *dataset* **Iris** já está estruturado e amplamente estudado, **as fases de \"Business Understanding\" e \"Data Understanding\" já foram concluídas**. Dessa forma, daremos continuidade a partir da etapa de **Preparação dos Dados**, realizando:\n",
    "\n",
    "- Normalização ou padronização (se necessário);  \n",
    "- Transformação e codificação de variáveis;  \n",
    "- Divisão dos dados em treino e teste.  \n",
    "\n",
    "Na fase de **Modelagem**, aplicaremos diferentes algoritmos de aprendizado de máquina, avaliando o desempenho com métricas como **acurácia, precisão, revocação e F1-score**. A etapa de **Avaliação** nos permitirá comparar os modelos e identificar a abordagem mais eficaz.\n",
    "\n",
    "Embora a **implantação (Deployment)** não seja o foco deste estudo, a análise contribuirá para entender qual modelo poderia ser utilizado em uma aplicação real.\n",
    "\n"
   ]
  },
  {
   "cell_type": "markdown",
   "metadata": {
    "id": "vYxRo_wnqe3k"
   },
   "source": [
    "## **3. Preparação dos Dados**\n",
    "\n"
   ]
  },
  {
   "cell_type": "code",
   "execution_count": 2,
   "metadata": {
    "colab": {
     "base_uri": "https://localhost:8080/",
     "height": 224
    },
    "id": "91qYwoSvrRAI",
    "outputId": "a1200b0a-554a-4ac1-a172-214e2709da8c"
   },
   "outputs": [
    {
     "name": "stdout",
     "output_type": "stream",
     "text": [
      "Path to dataset files: /home/jovyan/.cache/kagglehub/datasets/uciml/iris/versions/2\n"
     ]
    },
    {
     "data": {
      "text/html": [
       "<div>\n",
       "<style scoped>\n",
       "    .dataframe tbody tr th:only-of-type {\n",
       "        vertical-align: middle;\n",
       "    }\n",
       "\n",
       "    .dataframe tbody tr th {\n",
       "        vertical-align: top;\n",
       "    }\n",
       "\n",
       "    .dataframe thead th {\n",
       "        text-align: right;\n",
       "    }\n",
       "</style>\n",
       "<table border=\"1\" class=\"dataframe\">\n",
       "  <thead>\n",
       "    <tr style=\"text-align: right;\">\n",
       "      <th></th>\n",
       "      <th>Id</th>\n",
       "      <th>SepalLengthCm</th>\n",
       "      <th>SepalWidthCm</th>\n",
       "      <th>PetalLengthCm</th>\n",
       "      <th>PetalWidthCm</th>\n",
       "      <th>Species</th>\n",
       "    </tr>\n",
       "  </thead>\n",
       "  <tbody>\n",
       "    <tr>\n",
       "      <th>0</th>\n",
       "      <td>1</td>\n",
       "      <td>5.1</td>\n",
       "      <td>3.5</td>\n",
       "      <td>1.4</td>\n",
       "      <td>0.2</td>\n",
       "      <td>Iris-setosa</td>\n",
       "    </tr>\n",
       "    <tr>\n",
       "      <th>1</th>\n",
       "      <td>2</td>\n",
       "      <td>4.9</td>\n",
       "      <td>3.0</td>\n",
       "      <td>1.4</td>\n",
       "      <td>0.2</td>\n",
       "      <td>Iris-setosa</td>\n",
       "    </tr>\n",
       "    <tr>\n",
       "      <th>2</th>\n",
       "      <td>3</td>\n",
       "      <td>4.7</td>\n",
       "      <td>3.2</td>\n",
       "      <td>1.3</td>\n",
       "      <td>0.2</td>\n",
       "      <td>Iris-setosa</td>\n",
       "    </tr>\n",
       "    <tr>\n",
       "      <th>3</th>\n",
       "      <td>4</td>\n",
       "      <td>4.6</td>\n",
       "      <td>3.1</td>\n",
       "      <td>1.5</td>\n",
       "      <td>0.2</td>\n",
       "      <td>Iris-setosa</td>\n",
       "    </tr>\n",
       "    <tr>\n",
       "      <th>4</th>\n",
       "      <td>5</td>\n",
       "      <td>5.0</td>\n",
       "      <td>3.6</td>\n",
       "      <td>1.4</td>\n",
       "      <td>0.2</td>\n",
       "      <td>Iris-setosa</td>\n",
       "    </tr>\n",
       "  </tbody>\n",
       "</table>\n",
       "</div>"
      ],
      "text/plain": [
       "   Id  SepalLengthCm  SepalWidthCm  PetalLengthCm  PetalWidthCm      Species\n",
       "0   1            5.1           3.5            1.4           0.2  Iris-setosa\n",
       "1   2            4.9           3.0            1.4           0.2  Iris-setosa\n",
       "2   3            4.7           3.2            1.3           0.2  Iris-setosa\n",
       "3   4            4.6           3.1            1.5           0.2  Iris-setosa\n",
       "4   5            5.0           3.6            1.4           0.2  Iris-setosa"
      ]
     },
     "execution_count": 2,
     "metadata": {},
     "output_type": "execute_result"
    }
   ],
   "source": [
    "import kagglehub\n",
    "\n",
    "# Download latest version\n",
    "path = kagglehub.dataset_download(\"uciml/iris\")\n",
    "\n",
    "print(\"Path to dataset files:\", path)\n",
    "\n",
    "\n",
    "# Carregando o conjunto de dados CSV em um DataFrame\n",
    "df = pd.read_csv(f\"{path}/Iris.csv\")\n",
    "df.head()"
   ]
  },
  {
   "cell_type": "code",
   "execution_count": 3,
   "metadata": {
    "id": "Lh4kd3CK4FHY"
   },
   "outputs": [],
   "source": [
    "df.columns = [\"id\",\"sepal_length\", \"sepal_width\", \"petal_length\", \"petal_width\", \"species\"]\n",
    "\n",
    "# Separando as features (X) e a classe (y)\n",
    "x = df[[\"sepal_length\",\n",
    "        \"sepal_width\",\n",
    "        \"petal_length\",\n",
    "        \"petal_width\"]]\n",
    "y = df[\"species\"]"
   ]
  },
  {
   "cell_type": "markdown",
   "metadata": {
    "id": "bP3T4WCLFqYi"
   },
   "source": [
    "## **4. Modelagem**"
   ]
  },
  {
   "cell_type": "markdown",
   "metadata": {
    "id": "ztD8jJoFGwky"
   },
   "source": [
    "### **4.1. Regressão Logística**"
   ]
  },
  {
   "cell_type": "code",
   "execution_count": 4,
   "metadata": {
    "id": "wdxUFxOF4yqF"
   },
   "outputs": [],
   "source": [
    "# Dividindo o conjunto de dados em 70% para treinamento e 30% para teste\n",
    "def split_data(x, y, test_size=0.3, random_state=42):\n",
    "    x_train, x_test, y_train, y_test = train_test_split(x, y, test_size=test_size, random_state=random_state)\n",
    "    return x_train, x_test, y_train, y_test\n",
    "\n",
    "x_train, x_test, y_train, y_test = split_data(x, y)"
   ]
  },
  {
   "cell_type": "code",
   "execution_count": 5,
   "metadata": {
    "id": "09MBu2OC46ii"
   },
   "outputs": [],
   "source": [
    "# Criando e treinando o modelo de Regressão Logística\n",
    "def logistic_regression_predict(x_train, y_train):\n",
    "    model = LogisticRegression()\n",
    "    model.fit(x_train, y_train)\n",
    "    # Fazendo previsões sobre o conjunto de dados de teste\n",
    "    y_pred = model.predict(x_test)\n",
    "    return y_pred\n",
    "\n",
    "y_pred = logistic_regression_predict(x_train, y_train)"
   ]
  },
  {
   "cell_type": "code",
   "execution_count": 6,
   "metadata": {
    "colab": {
     "base_uri": "https://localhost:8080/"
    },
    "id": "egAix2yO5NUB",
    "outputId": "c5e0bcef-2636-4824-b94c-a08d0abd5af3"
   },
   "outputs": [
    {
     "name": "stdout",
     "output_type": "stream",
     "text": [
      "{'accuracy': 1.0, 'precision': 1.0, 'recall': 1.0, 'f1_score': 1.0}\n"
     ]
    }
   ],
   "source": [
    "# Calculando métricas de desempenho (acurácia, precisão, revocação e F1-Score)\n",
    "\n",
    "def calculate_metrics(y_true, y_pred):\n",
    "    accuracy = accuracy_score(y_true, y_pred)\n",
    "    precision = precision_score(y_true, y_pred, average='micro')\n",
    "    recall = recall_score(y_true, y_pred, average='micro')\n",
    "    f1 = f1_score(y_true, y_pred, average='micro')\n",
    "\n",
    "    metrics = {\n",
    "        'accuracy': accuracy,\n",
    "        'precision': precision,\n",
    "        'recall': recall,\n",
    "        'f1_score': f1\n",
    "    }\n",
    "    return metrics\n",
    "\n",
    "print(calculate_metrics(y_test, y_pred))"
   ]
  },
  {
   "cell_type": "markdown",
   "metadata": {
    "id": "UWdmiACwHpAP"
   },
   "source": [
    "### **4.2. KNN**"
   ]
  },
  {
   "cell_type": "code",
   "execution_count": 7,
   "metadata": {
    "colab": {
     "base_uri": "https://localhost:8080/"
    },
    "id": "y23-ypzGG2TQ",
    "outputId": "2692af58-9a92-4670-8728-2ac5b854b2f3"
   },
   "outputs": [
    {
     "name": "stdout",
     "output_type": "stream",
     "text": [
      "{'accuracy': 1.0, 'precision': 1.0, 'recall': 1.0, 'f1_score': 1.0}\n"
     ]
    }
   ],
   "source": [
    "def knn_predict(x_train, y_train):\n",
    "    # Criando e treinando o modelo KNN com K=3 vizinhos\n",
    "    model = KNeighborsClassifier(n_neighbors=3)\n",
    "    model.fit(x_train, y_train)\n",
    "\n",
    "    # Fazendo previsões sobre o conjunto de dados de teste\n",
    "    y_pred = model.predict(x_test)\n",
    "    return y_pred\n",
    "\n",
    "y_pred = knn_predict(x_train, y_train)\n",
    "\n",
    "print(calculate_metrics(y_test, y_pred))"
   ]
  },
  {
   "cell_type": "code",
   "execution_count": 8,
   "metadata": {
    "colab": {
     "base_uri": "https://localhost:8080/"
    },
    "id": "wMUXgkOEHPAY",
    "outputId": "e2a1a293-6052-4030-f910-5f39b7dd0d65"
   },
   "outputs": [
    {
     "name": "stdout",
     "output_type": "stream",
     "text": [
      "{1: 1.0, 2: 1.0, 3: 1.0, 4: 1.0, 5: 1.0, 6: 1.0, 7: 1.0, 8: 1.0, 9: 1.0, 10: 1.0, 11: 1.0, 12: 1.0, 13: 1.0, 14: 1.0, 15: 1.0, 16: 1.0, 17: 1.0, 18: 1.0, 19: 1.0, 20: 1.0, 21: 1.0, 22: 1.0, 23: 1.0, 24: 1.0, 25: 1.0, 26: 1.0, 27: 1.0, 28: 1.0, 29: 1.0, 30: 1.0, 31: 1.0, 32: 1.0, 33: 0.9777777777777777, 34: 0.9777777777777777, 35: 0.9777777777777777, 36: 1.0, 37: 1.0, 38: 1.0, 39: 1.0, 40: 1.0, 41: 1.0, 42: 0.9777777777777777, 43: 0.9777777777777777, 44: 0.9777777777777777, 45: 0.9777777777777777, 46: 0.9777777777777777, 47: 0.9777777777777777, 48: 0.9555555555555556, 49: 0.9333333333333333, 50: 0.9555555555555556, 51: 0.9555555555555556, 52: 0.9555555555555556, 53: 0.9555555555555556, 54: 0.9333333333333333, 55: 0.8888888888888888, 56: 0.9111111111111111, 57: 0.9111111111111111, 58: 0.9333333333333333, 59: 0.9111111111111111, 60: 0.9555555555555556, 61: 0.9555555555555556, 62: 0.9333333333333333, 63: 0.9333333333333333, 64: 0.5111111111111111, 65: 0.5111111111111111, 66: 0.5111111111111111, 67: 0.4666666666666667, 68: 0.4888888888888889, 69: 0.4888888888888889, 70: 0.4888888888888889, 71: 0.4888888888888889, 72: 0.4888888888888889, 73: 0.4888888888888889, 74: 0.28888888888888886, 75: 0.28888888888888886, 76: 0.28888888888888886, 77: 0.28888888888888886, 78: 0.28888888888888886, 79: 0.28888888888888886, 80: 0.28888888888888886, 81: 0.28888888888888886, 82: 0.28888888888888886, 83: 0.28888888888888886, 84: 0.28888888888888886, 85: 0.28888888888888886, 86: 0.28888888888888886, 87: 0.28888888888888886, 88: 0.28888888888888886, 89: 0.28888888888888886, 90: 0.28888888888888886, 91: 0.28888888888888886, 92: 0.28888888888888886, 93: 0.28888888888888886, 94: 0.28888888888888886, 95: 0.28888888888888886, 96: 0.28888888888888886, 97: 0.28888888888888886, 98: 0.28888888888888886, 99: 0.28888888888888886, 100: 0.28888888888888886, 101: 0.28888888888888886, 102: 0.28888888888888886, 103: 0.28888888888888886, 104: 0.28888888888888886, 105: 0.28888888888888886}\n"
     ]
    }
   ],
   "source": [
    "# Relação da acurácia com a quantidade de vizinhos\n",
    "number_neighbors = range(1, 106)\n",
    "accuracy_dict = dict()\n",
    "\n",
    "for i in number_neighbors:\n",
    "    knn_model=KNeighborsClassifier(n_neighbors=i)\n",
    "    knn_model.fit(x_train, y_train)\n",
    "    y_pred = knn_model.predict(x_test)\n",
    "    accuracy_dict[i] = accuracy_score(y_test, y_pred)\n",
    "\n",
    "print(accuracy_dict)"
   ]
  },
  {
   "cell_type": "code",
   "execution_count": 9,
   "metadata": {
    "colab": {
     "base_uri": "https://localhost:8080/",
     "height": 449
    },
    "id": "H8jQzuqRHX_p",
    "outputId": "49f3cdd1-7eed-44a4-9c8b-983b971e3e72"
   },
   "outputs": [
    {
     "data": {
      "image/png": "[encoded data removed]",
      "text/plain": [
       "<Figure size 640x480 with 1 Axes>"
      ]
     },
     "metadata": {},
     "output_type": "display_data"
    }
   ],
   "source": [
    "plt.plot(number_neighbors,accuracy_dict.values())\n",
    "plt.xlabel(\"Number Neighbors\")\n",
    "plt.ylabel(\"Accuracy\")\n",
    "plt.show()"
   ]
  },
  {
   "cell_type": "markdown",
   "metadata": {
    "id": "JKWgRyGcIRUJ"
   },
   "source": [
    "### **4.3. Árvore de Decisão**"
   ]
  },
  {
   "cell_type": "code",
   "execution_count": 10,
   "metadata": {
    "colab": {
     "base_uri": "https://localhost:8080/",
     "height": 441
    },
    "id": "F781OQU8IXob",
    "outputId": "8408de74-b5b8-4d82-e483-d59ba977e446"
   },
   "outputs": [
    {
     "name": "stdout",
     "output_type": "stream",
     "text": [
      "[0.03822004 0.         0.87415353 0.08762643]\n",
      "{'accuracy': 1.0, 'precision': 1.0, 'recall': 1.0, 'f1_score': 1.0}\n"
     ]
    },
    {
     "data": {
      "image/png": "[encoded data removed]",
      "text/plain": [
       "<Figure size 640x480 with 1 Axes>"
      ]
     },
     "metadata": {},
     "output_type": "display_data"
    }
   ],
   "source": [
    "# Criando e treinando o modelo de Árvore de Decisão\n",
    "def decision_tree_predict(x_train, y_train):\n",
    "    model = DecisionTreeClassifier()\n",
    "    model.fit(x_train, y_train)\n",
    "\n",
    "    # Fazendo previsões sobre o conjunto de dados de teste\n",
    "    y_pred = model.predict(x_test)\n",
    "\n",
    "    tree.plot_tree(model,\n",
    "          feature_names = ['sepal_length',\n",
    "                           'sepal_width',\n",
    "                           'petal_length',\n",
    "                           'petal_width'],\n",
    "               class_names = ['setosa',\n",
    "                              'virginica',\n",
    "                              'versicolor'],\n",
    "               impurity=False,\n",
    "               label='none',\n",
    "               filled=True)\n",
    "    print(model.feature_importances_)\n",
    "    return y_pred\n",
    "\n",
    "y_pred = decision_tree_predict(x_train, y_train)\n",
    "\n",
    "print(calculate_metrics(y_test, y_pred))"
   ]
  },
  {
   "cell_type": "markdown",
   "metadata": {
    "id": "baqLZL6ZIsYl"
   },
   "source": [
    "### **4.4. SVM**"
   ]
  },
  {
   "cell_type": "code",
   "execution_count": 11,
   "metadata": {
    "colab": {
     "base_uri": "https://localhost:8080/"
    },
    "id": "NweLTjlXIrUj",
    "outputId": "89732d4d-ca5d-412f-852e-24d72223315d"
   },
   "outputs": [
    {
     "name": "stdout",
     "output_type": "stream",
     "text": [
      "{'accuracy': 1.0, 'precision': 1.0, 'recall': 1.0, 'f1_score': 1.0}\n"
     ]
    }
   ],
   "source": [
    "# Criando e treinando o modelo SVM\n",
    "def svm_predict(x_train, y_train):\n",
    "  model = SVC()\n",
    "  model.fit(x_train, y_train)\n",
    "\n",
    "  # Fazendo previsões sobre o conjunto de dados de teste\n",
    "  y_pred = model.predict(x_test)\n",
    "  return y_pred\n",
    "\n",
    "y_pred = svm_predict(x_train, y_train)\n",
    "\n",
    "print(calculate_metrics(y_test, y_pred))"
   ]
  },
  {
   "cell_type": "markdown",
   "metadata": {
    "id": "cj1Gp7qOKJUJ"
   },
   "source": [
    "### **4.5. Redes Neurais Artificiais**"
   ]
  },
  {
   "cell_type": "markdown",
   "metadata": {
    "id": "QZScIgt8TB4o"
   },
   "source": [
    "### **4.5.1. Perceptron**"
   ]
  },
  {
   "cell_type": "code",
   "execution_count": 12,
   "metadata": {
    "colab": {
     "base_uri": "https://localhost:8080/"
    },
    "id": "4zXsFQywTSzI",
    "outputId": "80876dfe-25a7-457d-ec74-cd7e2105e4ff"
   },
   "outputs": [
    {
     "data": {
      "text/plain": [
       "0.6888888888888889"
      ]
     },
     "execution_count": 12,
     "metadata": {},
     "output_type": "execute_result"
    }
   ],
   "source": [
    "X = df[[\"sepal_length\", \"sepal_width\"]]\n",
    "y = df[\"species\"]\n",
    "\n",
    "# Dividindo o conjunto de dados em treinamento e teste\n",
    "x_train, x_test, y_train, y_test = train_test_split(x, y, test_size=0.3, random_state=23)\n",
    "\n",
    "# Treinando o modelo Perceptron\n",
    "modelo = Perceptron()\n",
    "modelo.fit(x_train, y_train)\n",
    "\n",
    "# Fazendo previsões com o modelo treinado\n",
    "y_pred = modelo.predict(x_test)\n",
    "\n",
    "# Avaliando o desempenho do modelo\n",
    "accuracy = accuracy_score(y_test, y_pred)\n",
    "accuracy"
   ]
  },
  {
   "cell_type": "markdown",
   "metadata": {
    "id": "sohzwyAvTgqi"
   },
   "source": [
    "### **4.5.1. MLP**"
   ]
  },
  {
   "cell_type": "markdown",
   "metadata": {
    "id": "Oxw7uNqkQUMB"
   },
   "source": [
    "## **5. Automatização do Treino e Validação**\n",
    "\n"
   ]
  },
  {
   "cell_type": "code",
   "execution_count": 13,
   "metadata": {
    "colab": {
     "base_uri": "https://localhost:8080/",
     "height": 498
    },
    "id": "Zy80TalhOkLK",
    "outputId": "fc5a0d82-41c2-498d-ab79-b59a9ae9c2b4"
   },
   "outputs": [
    {
     "name": "stdout",
     "output_type": "stream",
     "text": [
      "Training model: logistic_regression\n",
      "Training model: knn\n",
      "Training model: decision_tree\n",
      "Training model: svm\n",
      "Training model: perceptron\n",
      "Training model: mlp\n",
      "\n",
      "📊 Model Evaluation Results:\n",
      "\n"
     ]
    },
    {
     "data": {
      "text/html": [
       "<style type=\"text/css\">\n",
       "#T_7b9b2_row0_col0, #T_7b9b2_row0_col1, #T_7b9b2_row0_col2, #T_7b9b2_row0_col3, #T_7b9b2_row0_col4, #T_7b9b2_row1_col0, #T_7b9b2_row1_col1, #T_7b9b2_row1_col2, #T_7b9b2_row1_col3, #T_7b9b2_row1_col4, #T_7b9b2_row2_col0, #T_7b9b2_row2_col1, #T_7b9b2_row2_col2, #T_7b9b2_row2_col3, #T_7b9b2_row2_col4, #T_7b9b2_row3_col0, #T_7b9b2_row3_col1, #T_7b9b2_row3_col2, #T_7b9b2_row3_col3, #T_7b9b2_row3_col4, #T_7b9b2_row4_col0, #T_7b9b2_row4_col1, #T_7b9b2_row4_col2, #T_7b9b2_row4_col3, #T_7b9b2_row4_col4, #T_7b9b2_row5_col0, #T_7b9b2_row5_col1, #T_7b9b2_row5_col2, #T_7b9b2_row5_col3, #T_7b9b2_row5_col4 {\n",
       "  text-align: center;\n",
       "}\n",
       "</style>\n",
       "<table id=\"T_7b9b2\">\n",
       "  <thead>\n",
       "    <tr>\n",
       "      <th class=\"blank level0\" >&nbsp;</th>\n",
       "      <th id=\"T_7b9b2_level0_col0\" class=\"col_heading level0 col0\" >Model</th>\n",
       "      <th id=\"T_7b9b2_level0_col1\" class=\"col_heading level0 col1\" >Accuracy</th>\n",
       "      <th id=\"T_7b9b2_level0_col2\" class=\"col_heading level0 col2\" >Precision</th>\n",
       "      <th id=\"T_7b9b2_level0_col3\" class=\"col_heading level0 col3\" >Recall</th>\n",
       "      <th id=\"T_7b9b2_level0_col4\" class=\"col_heading level0 col4\" >F1_Score</th>\n",
       "    </tr>\n",
       "  </thead>\n",
       "  <tbody>\n",
       "    <tr>\n",
       "      <th id=\"T_7b9b2_level0_row0\" class=\"row_heading level0 row0\" >0</th>\n",
       "      <td id=\"T_7b9b2_row0_col0\" class=\"data row0 col0\" >logistic_regression</td>\n",
       "      <td id=\"T_7b9b2_row0_col1\" class=\"data row0 col1\" >1.0000</td>\n",
       "      <td id=\"T_7b9b2_row0_col2\" class=\"data row0 col2\" >1.0000</td>\n",
       "      <td id=\"T_7b9b2_row0_col3\" class=\"data row0 col3\" >1.0000</td>\n",
       "      <td id=\"T_7b9b2_row0_col4\" class=\"data row0 col4\" >1.0000</td>\n",
       "    </tr>\n",
       "    <tr>\n",
       "      <th id=\"T_7b9b2_level0_row1\" class=\"row_heading level0 row1\" >1</th>\n",
       "      <td id=\"T_7b9b2_row1_col0\" class=\"data row1 col0\" >knn</td>\n",
       "      <td id=\"T_7b9b2_row1_col1\" class=\"data row1 col1\" >1.0000</td>\n",
       "      <td id=\"T_7b9b2_row1_col2\" class=\"data row1 col2\" >1.0000</td>\n",
       "      <td id=\"T_7b9b2_row1_col3\" class=\"data row1 col3\" >1.0000</td>\n",
       "      <td id=\"T_7b9b2_row1_col4\" class=\"data row1 col4\" >1.0000</td>\n",
       "    </tr>\n",
       "    <tr>\n",
       "      <th id=\"T_7b9b2_level0_row2\" class=\"row_heading level0 row2\" >2</th>\n",
       "      <td id=\"T_7b9b2_row2_col0\" class=\"data row2 col0\" >decision_tree</td>\n",
       "      <td id=\"T_7b9b2_row2_col1\" class=\"data row2 col1\" >1.0000</td>\n",
       "      <td id=\"T_7b9b2_row2_col2\" class=\"data row2 col2\" >1.0000</td>\n",
       "      <td id=\"T_7b9b2_row2_col3\" class=\"data row2 col3\" >1.0000</td>\n",
       "      <td id=\"T_7b9b2_row2_col4\" class=\"data row2 col4\" >1.0000</td>\n",
       "    </tr>\n",
       "    <tr>\n",
       "      <th id=\"T_7b9b2_level0_row3\" class=\"row_heading level0 row3\" >3</th>\n",
       "      <td id=\"T_7b9b2_row3_col0\" class=\"data row3 col0\" >svm</td>\n",
       "      <td id=\"T_7b9b2_row3_col1\" class=\"data row3 col1\" >0.9667</td>\n",
       "      <td id=\"T_7b9b2_row3_col2\" class=\"data row3 col2\" >0.9722</td>\n",
       "      <td id=\"T_7b9b2_row3_col3\" class=\"data row3 col3\" >0.9630</td>\n",
       "      <td id=\"T_7b9b2_row3_col4\" class=\"data row3 col4\" >0.9659</td>\n",
       "    </tr>\n",
       "    <tr>\n",
       "      <th id=\"T_7b9b2_level0_row4\" class=\"row_heading level0 row4\" >4</th>\n",
       "      <td id=\"T_7b9b2_row4_col0\" class=\"data row4 col0\" >perceptron</td>\n",
       "      <td id=\"T_7b9b2_row4_col1\" class=\"data row4 col1\" >0.9667</td>\n",
       "      <td id=\"T_7b9b2_row4_col2\" class=\"data row4 col2\" >0.9722</td>\n",
       "      <td id=\"T_7b9b2_row4_col3\" class=\"data row4 col3\" >0.9630</td>\n",
       "      <td id=\"T_7b9b2_row4_col4\" class=\"data row4 col4\" >0.9659</td>\n",
       "    </tr>\n",
       "    <tr>\n",
       "      <th id=\"T_7b9b2_level0_row5\" class=\"row_heading level0 row5\" >5</th>\n",
       "      <td id=\"T_7b9b2_row5_col0\" class=\"data row5 col0\" >mlp</td>\n",
       "      <td id=\"T_7b9b2_row5_col1\" class=\"data row5 col1\" >1.0000</td>\n",
       "      <td id=\"T_7b9b2_row5_col2\" class=\"data row5 col2\" >1.0000</td>\n",
       "      <td id=\"T_7b9b2_row5_col3\" class=\"data row5 col3\" >1.0000</td>\n",
       "      <td id=\"T_7b9b2_row5_col4\" class=\"data row5 col4\" >1.0000</td>\n",
       "    </tr>\n",
       "  </tbody>\n",
       "</table>\n"
      ],
      "text/plain": [
       "<pandas.io.formats.style.Styler at 0x77652e97bbd0>"
      ]
     },
     "metadata": {},
     "output_type": "display_data"
    }
   ],
   "source": [
    "import os\n",
    "\n",
    "def load_and_prepare_data():\n",
    "    from sklearn.datasets import load_iris\n",
    "    data = load_iris()\n",
    "    X = pd.DataFrame(data.data, columns=data.feature_names)\n",
    "    y = data.target\n",
    "\n",
    "    # Dividir em treino e teste\n",
    "    X_train, X_test, y_train, y_test = train_test_split(X, y, test_size=0.2, random_state=42)\n",
    "\n",
    "    # Normalizar os dados\n",
    "    scaler = StandardScaler()\n",
    "    X_train = scaler.fit_transform(X_train)\n",
    "    X_test = scaler.transform(X_test)\n",
    "\n",
    "    return X_train, X_test, y_train, y_test\n",
    "\n",
    "\n",
    "def train_and_evaluate_models(models, X_train, X_test, y_train, y_test):\n",
    "    results = []\n",
    "\n",
    "    os.makedirs(\"models\", exist_ok=True)\n",
    "\n",
    "    for name, model in models.items():\n",
    "        print(f\"Training model: {name}\")\n",
    "        model.fit(X_train, y_train)\n",
    "        y_pred = model.predict(X_test)\n",
    "\n",
    "        metrics = {\n",
    "            \"Model\": name,\n",
    "            \"Accuracy\": accuracy_score(y_test, y_pred),\n",
    "            \"Precision\": precision_score(y_test, y_pred, average='macro'),\n",
    "            \"Recall\": recall_score(y_test, y_pred, average='macro'),\n",
    "            \"F1_Score\": f1_score(y_test, y_pred, average='macro')\n",
    "        }\n",
    "\n",
    "        results.append(metrics)\n",
    "\n",
    "        # Save model with English name and underscores\n",
    "        file_name = name.lower().replace(\" \", \"_\")\n",
    "        joblib.dump(model, f\"models/{file_name}.pkl\")\n",
    "\n",
    "    return pd.DataFrame(results)\n",
    "\n",
    "\n",
    "models = {\n",
    "    \"logistic_regression\": LogisticRegression(),\n",
    "    \"knn\": KNeighborsClassifier(n_neighbors=3),\n",
    "    \"decision_tree\": DecisionTreeClassifier(),\n",
    "    \"svm\": SVC(kernel=\"linear\"),\n",
    "    \"perceptron\": Perceptron(),\n",
    "    \"mlp\": MLPClassifier(max_iter=1000)\n",
    "}\n",
    "\n",
    "# Load data\n",
    "X_train, X_test, y_train, y_test = load_and_prepare_data()\n",
    "\n",
    "# Train and evaluate models\n",
    "df_results = train_and_evaluate_models(models, X_train, X_test, y_train, y_test)\n",
    "\n",
    "# Show results\n",
    "print(\"\\n📊 Model Evaluation Results:\\n\")\n",
    "display(df_results.style.format({\n",
    "    \"Accuracy\": \"{:.4f}\",\n",
    "    \"Precision\": \"{:.4f}\",\n",
    "    \"Recall\": \"{:.4f}\",\n",
    "    \"F1_Score\": \"{:.4f}\"\n",
    "}).set_properties(**{'text-align': 'center'}))"
   ]
  }
 ],
 "metadata": {
  "colab": {
   "authorship_tag": "ABX9TyOVYa7U4wjH9NzlcET4namb",
   "include_colab_link": true,
   "provenance": []
  },
  "kernelspec": {
   "display_name": "Python 3 (ipykernel)",
   "language": "python",
   "name": "python3"
  },
  "language_info": {
   "codemirror_mode": {
    "name": "ipython",
    "version": 3
   },
   "file_extension": ".py",
   "mimetype": "text/x-python",
   "name": "python",
   "nbconvert_exporter": "python",
   "pygments_lexer": "ipython3",
   "version": "3.11.6"
  }
 },
 "nbformat": 4,
 "nbformat_minor": 4
}
