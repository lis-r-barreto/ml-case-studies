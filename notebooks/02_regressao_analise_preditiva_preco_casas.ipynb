{
 "cells": [
  {
   "cell_type": "markdown",
   "metadata": {
    "colab_type": "text",
    "id": "view-in-github"
   },
   "source": [
    "<a href=\"https://colab.research.google.com/github/lis-r-barreto/ml-case-studies/blob/main/02_regressao_analise_preditiva_preco_casas.ipynb\" target=\"_parent\"><img src=\"https://colab.research.google.com/assets/colab-badge.svg\" alt=\"Open In Colab\"/></a>"
   ]
  },
  {
   "cell_type": "markdown",
   "metadata": {
    "id": "2CKfZyfF6zJY"
   },
   "source": [
    "# **King County House Price Predictor: Uma Análise Preditiva com Modelos de Regressão**"
   ]
  },
  {
   "cell_type": "markdown",
   "metadata": {
    "id": "OfdWL8996Nlc"
   },
   "source": [
    "## **0. Setup Inicial**"
   ]
  },
  {
   "cell_type": "code",
   "execution_count": 16,
   "metadata": {
    "id": "aR_M7SOK0DEJ"
   },
   "outputs": [],
   "source": [
    "import kagglehub\n",
    "import numpy as np\n",
    "import pandas as pd\n",
    "from sklearn.preprocessing import StandardScaler\n",
    "from sklearn.model_selection import train_test_split\n",
    "from sklearn.metrics import mean_absolute_error, mean_squared_error, mean_absolute_percentage_error, r2_score\n",
    "from sklearn.linear_model import LinearRegression\n",
    "from sklearn.neighbors import KNeighborsRegressor\n",
    "from sklearn.svm import SVR\n",
    "from sklearn.tree import DecisionTreeRegressor\n",
    "from xgboost import XGBRegressor"
   ]
  },
  {
   "cell_type": "markdown",
   "metadata": {
    "id": "dPEqXCTB5hZP"
   },
   "source": [
    "## **1. Introdução**"
   ]
  },
  {
   "cell_type": "markdown",
   "metadata": {
    "id": "LHFUXFsj1swn"
   },
   "source": [
    "Este notebook tem como objetivo explorar e comparar o desempenho de diferentes modelos de **regressão** no conjunto de dados **House Sales in King County, USA**, com foco na previsão de preços de casas na região. O dataset abrange informações sobre vendas de imóveis no Condado de King, que inclui a cidade de Seattle, ocorridas entre maio de 2014 e maio de 2015.\n",
    "\n",
    "Esse conjunto de dados é amplamente utilizado para avaliar tanto modelos de regressão simples quanto complexos, tornando-o uma excelente escolha para experimentação e comparação de algoritmos. Ele contém diversas características relevantes dos imóveis, como tamanho, número de quartos, localização geográfica e outras variáveis que influenciam diretamente o preço de venda.\n",
    "\n",
    "O dataset inclui as seguintes colunas principais:\n",
    "\n",
    "- **Preço da casa**: Variável alvo, representando o valor de venda do imóvel.\n",
    "- **Quartos**: Número de quartos no imóvel.\n",
    "- **Banheiros**: Número de banheiros.\n",
    "- **Área construída (sqft)**: Tamanho total da área construída do imóvel.\n",
    "- **Localização**: Coordenadas geográficas (latitude e longitude) que indicam onde o imóvel está situado.\n",
    "- **Ano de construção**: Ano em que a casa foi construída.\n",
    "- **Área do terreno**: Tamanho total do terreno associado ao imóvel.\n",
    "- **Andares**: Número de andares na casa.\n",
    "- **Vista para água**: Indica se o imóvel possui vista para a água (sim ou não).\n",
    "- **Outras características**: Incluem informações como reformas recentes, classificação do imóvel e outros atributos relevantes.\n",
    "\n",
    "<img src=\"https://miro.medium.com/v2/resize:fit:640/1*lU8nD0goCPP8Y_atONQm7g.jpeg\" alt=\"House Sales dataset\" width=\"600\"/>\n",
    "\n",
    "\n",
    "Nosso objetivo é comparar diferentes modelos de regressão para prever o preço de venda das casas com base nas características fornecidas pelo dataset. Para isso, testaremos os seguintes algoritmos:\n",
    "\n",
    "1. **Regressão Linear**: Um modelo clássico e interpretável, ideal para problemas de regressão.\n",
    "2. **KNN Regressor**: Modelo baseado na proximidade dos vizinhos mais próximos.\n",
    "3. **SVR (Support Vector Regression)**: Uma abordagem robusta que utiliza máquinas de vetores de suporte.\n",
    "4. **Regressão de Árvore de Decisão**: Modelo baseado em regras de decisão hierárquicas.\n",
    "5. **Gradient Boosting (XGBoost ou LightGBM)**: Um modelo poderoso de ensemble que combina múltiplos modelos fracos para melhorar o desempenho.\n",
    "\n",
    "\n",
    "Os modelos serão avaliados utilizando as seguintes métricas:\n",
    "\n",
    "- **Erro Médio Absoluto (MAE)**: Mede o erro médio absoluto entre os valores previstos e reais, fornecendo uma visão direta da precisão do modelo.\n",
    "- **Erro Quadrático Médio (MSE)**: Penaliza erros maiores de forma quadrática, destacando desvios significativos.\n",
    "- **R² (Coeficiente de Determinação)**: Indica quão bem o modelo explica a variabilidade dos dados, sendo uma medida de ajuste global.\n",
    "\n",
    "Ao final deste estudo, analisaremos os resultados obtidos por cada modelo e identificaremos qual abordagem apresenta o melhor desempenho para prever os preços de casas no Condado de King. Isso permitirá uma compreensão mais profunda sobre a aplicabilidade e eficácia de diferentes técnicas de regressão neste contexto."
   ]
  },
  {
   "cell_type": "markdown",
   "metadata": {
    "id": "0uH80H4n6xv-"
   },
   "source": []
  },
  {
   "cell_type": "markdown",
   "metadata": {
    "id": "IHj7AtTv6fJR"
   },
   "source": [
    "## **2. Metodologia**"
   ]
  },
  {
   "cell_type": "markdown",
   "metadata": {
    "id": "b860ztsj51tQ"
   },
   "source": [
    "Neste projeto, adotaremos a metodologia **CRISP-DM** (*Cross Industry Standard Process for Data Mining*), um dos frameworks mais utilizados em projetos de ciência de dados.\n",
    "\n",
    "<img src=\"https://cdn.prod.website-files.com/625af9ac050b6e6379b3c444/6791115bc23efadebc44f017_6480acb9f030976b53cf48bd_1-crisp-dm-as-etapas-da-metodologia.png\" alt=\"CRISP-DM\" width=\"500\"/>\n",
    "\n",
    "🔗 Saiba mais: [Entenda o CRISP-DM](https://www.preditiva.ai/blog/entenda-o-crisp-dm-suas-etapas-e-como-de-fato-gerar-valor-com-essa-metodologia)\n",
    "\n",
    "Como o *dataset* **House Sales in King County, USA** já está estruturado e amplamente estudado, **as fases de \"Business Understanding\" e \"Data Understanding\" já foram concluídas**. Dessa forma, daremos continuidade a partir da etapa de **Preparação dos Dados**, realizando:\n",
    "\n",
    "- **Tratamento de valores ausentes**: Identificação e correção de dados faltantes.\n",
    "- **Normalização ou padronização**: Se necessário, ajustaremos as escalas das variáveis para melhorar o desempenho dos modelos.\n",
    "- **Transformação e codificação de variáveis**: Conversão de variáveis categóricas em numéricas (se aplicável).\n",
    "- **Divisão dos dados em treino e teste**: Separação do dataset para treinamento e validação dos modelos.\n",
    "\n",
    "Na fase de **Modelagem**, aplicaremos diferentes algoritmos de aprendizado de máquina para prever os preços das casas, incluindo:\n",
    "1. **Regressão Linear**: Modelo clássico e interpretável.\n",
    "2. **KNN Regressor**: Modelo baseado na proximidade dos vizinhos mais próximos.\n",
    "3. **SVR (Support Vector Regression)**: Abordagem robusta com máquinas de vetores de suporte.\n",
    "4. **Regressão de Árvore de Decisão**: Modelo baseado em regras de decisão hierárquicas.\n",
    "5. **Gradient Boosting (XGBoost ou LightGBM)**: Modelo poderoso de ensemble.\n",
    "\n",
    "Avaliaremos o desempenho dos modelos utilizando métricas como:\n",
    "- **MAE (Erro Médio Absoluto)**: Erro médio entre valores reais e previstos.\n",
    "- **MSE (Erro Quadrático Médio)**: Penaliza erros maiores.\n",
    "- **R² (Coeficiente de Determinação)**: Mede o ajuste do modelo aos dados.\n",
    "\n",
    "A etapa de **Avaliação** nos permitirá comparar os modelos e identificar a abordagem mais eficaz para prever os preços de casas no Condado de King.\n",
    "\n",
    "Embora a **implantação (Deployment)** não seja o foco deste estudo, a análise contribuirá para entender qual modelo poderia ser utilizado em uma aplicação real, como sistemas de recomendação de preços para o mercado imobiliário."
   ]
  },
  {
   "cell_type": "markdown",
   "metadata": {
    "id": "7Dm5_JJi5_Ki"
   },
   "source": [
    "## **3. Preparação dos Dados**\n",
    "\n"
   ]
  },
  {
   "cell_type": "code",
   "execution_count": 2,
   "metadata": {
    "colab": {
     "base_uri": "https://localhost:8080/",
     "height": 290
    },
    "id": "8j-kX4tq0P3m",
    "outputId": "b3567a95-b605-4ea7-d07a-5511222d842b"
   },
   "outputs": [
    {
     "name": "stdout",
     "output_type": "stream",
     "text": [
      "Path to dataset files: /home/jovyan/.cache/kagglehub/datasets/harlfoxem/housesalesprediction/versions/1\n"
     ]
    },
    {
     "data": {
      "text/html": [
       "<div>\n",
       "<style scoped>\n",
       "    .dataframe tbody tr th:only-of-type {\n",
       "        vertical-align: middle;\n",
       "    }\n",
       "\n",
       "    .dataframe tbody tr th {\n",
       "        vertical-align: top;\n",
       "    }\n",
       "\n",
       "    .dataframe thead th {\n",
       "        text-align: right;\n",
       "    }\n",
       "</style>\n",
       "<table border=\"1\" class=\"dataframe\">\n",
       "  <thead>\n",
       "    <tr style=\"text-align: right;\">\n",
       "      <th></th>\n",
       "      <th>id</th>\n",
       "      <th>date</th>\n",
       "      <th>price</th>\n",
       "      <th>bedrooms</th>\n",
       "      <th>bathrooms</th>\n",
       "      <th>sqft_living</th>\n",
       "      <th>sqft_lot</th>\n",
       "      <th>floors</th>\n",
       "      <th>waterfront</th>\n",
       "      <th>view</th>\n",
       "      <th>...</th>\n",
       "      <th>grade</th>\n",
       "      <th>sqft_above</th>\n",
       "      <th>sqft_basement</th>\n",
       "      <th>yr_built</th>\n",
       "      <th>yr_renovated</th>\n",
       "      <th>zipcode</th>\n",
       "      <th>lat</th>\n",
       "      <th>long</th>\n",
       "      <th>sqft_living15</th>\n",
       "      <th>sqft_lot15</th>\n",
       "    </tr>\n",
       "  </thead>\n",
       "  <tbody>\n",
       "    <tr>\n",
       "      <th>0</th>\n",
       "      <td>7129300520</td>\n",
       "      <td>20141013T000000</td>\n",
       "      <td>221900.0</td>\n",
       "      <td>3</td>\n",
       "      <td>1.00</td>\n",
       "      <td>1180</td>\n",
       "      <td>5650</td>\n",
       "      <td>1.0</td>\n",
       "      <td>0</td>\n",
       "      <td>0</td>\n",
       "      <td>...</td>\n",
       "      <td>7</td>\n",
       "      <td>1180</td>\n",
       "      <td>0</td>\n",
       "      <td>1955</td>\n",
       "      <td>0</td>\n",
       "      <td>98178</td>\n",
       "      <td>47.5112</td>\n",
       "      <td>-122.257</td>\n",
       "      <td>1340</td>\n",
       "      <td>5650</td>\n",
       "    </tr>\n",
       "    <tr>\n",
       "      <th>1</th>\n",
       "      <td>6414100192</td>\n",
       "      <td>20141209T000000</td>\n",
       "      <td>538000.0</td>\n",
       "      <td>3</td>\n",
       "      <td>2.25</td>\n",
       "      <td>2570</td>\n",
       "      <td>7242</td>\n",
       "      <td>2.0</td>\n",
       "      <td>0</td>\n",
       "      <td>0</td>\n",
       "      <td>...</td>\n",
       "      <td>7</td>\n",
       "      <td>2170</td>\n",
       "      <td>400</td>\n",
       "      <td>1951</td>\n",
       "      <td>1991</td>\n",
       "      <td>98125</td>\n",
       "      <td>47.7210</td>\n",
       "      <td>-122.319</td>\n",
       "      <td>1690</td>\n",
       "      <td>7639</td>\n",
       "    </tr>\n",
       "    <tr>\n",
       "      <th>2</th>\n",
       "      <td>5631500400</td>\n",
       "      <td>20150225T000000</td>\n",
       "      <td>180000.0</td>\n",
       "      <td>2</td>\n",
       "      <td>1.00</td>\n",
       "      <td>770</td>\n",
       "      <td>10000</td>\n",
       "      <td>1.0</td>\n",
       "      <td>0</td>\n",
       "      <td>0</td>\n",
       "      <td>...</td>\n",
       "      <td>6</td>\n",
       "      <td>770</td>\n",
       "      <td>0</td>\n",
       "      <td>1933</td>\n",
       "      <td>0</td>\n",
       "      <td>98028</td>\n",
       "      <td>47.7379</td>\n",
       "      <td>-122.233</td>\n",
       "      <td>2720</td>\n",
       "      <td>8062</td>\n",
       "    </tr>\n",
       "    <tr>\n",
       "      <th>3</th>\n",
       "      <td>2487200875</td>\n",
       "      <td>20141209T000000</td>\n",
       "      <td>604000.0</td>\n",
       "      <td>4</td>\n",
       "      <td>3.00</td>\n",
       "      <td>1960</td>\n",
       "      <td>5000</td>\n",
       "      <td>1.0</td>\n",
       "      <td>0</td>\n",
       "      <td>0</td>\n",
       "      <td>...</td>\n",
       "      <td>7</td>\n",
       "      <td>1050</td>\n",
       "      <td>910</td>\n",
       "      <td>1965</td>\n",
       "      <td>0</td>\n",
       "      <td>98136</td>\n",
       "      <td>47.5208</td>\n",
       "      <td>-122.393</td>\n",
       "      <td>1360</td>\n",
       "      <td>5000</td>\n",
       "    </tr>\n",
       "    <tr>\n",
       "      <th>4</th>\n",
       "      <td>1954400510</td>\n",
       "      <td>20150218T000000</td>\n",
       "      <td>510000.0</td>\n",
       "      <td>3</td>\n",
       "      <td>2.00</td>\n",
       "      <td>1680</td>\n",
       "      <td>8080</td>\n",
       "      <td>1.0</td>\n",
       "      <td>0</td>\n",
       "      <td>0</td>\n",
       "      <td>...</td>\n",
       "      <td>8</td>\n",
       "      <td>1680</td>\n",
       "      <td>0</td>\n",
       "      <td>1987</td>\n",
       "      <td>0</td>\n",
       "      <td>98074</td>\n",
       "      <td>47.6168</td>\n",
       "      <td>-122.045</td>\n",
       "      <td>1800</td>\n",
       "      <td>7503</td>\n",
       "    </tr>\n",
       "  </tbody>\n",
       "</table>\n",
       "<p>5 rows × 21 columns</p>\n",
       "</div>"
      ],
      "text/plain": [
       "           id             date     price  bedrooms  bathrooms  sqft_living  \\\n",
       "0  7129300520  20141013T000000  221900.0         3       1.00         1180   \n",
       "1  6414100192  20141209T000000  538000.0         3       2.25         2570   \n",
       "2  5631500400  20150225T000000  180000.0         2       1.00          770   \n",
       "3  2487200875  20141209T000000  604000.0         4       3.00         1960   \n",
       "4  1954400510  20150218T000000  510000.0         3       2.00         1680   \n",
       "\n",
       "   sqft_lot  floors  waterfront  view  ...  grade  sqft_above  sqft_basement  \\\n",
       "0      5650     1.0           0     0  ...      7        1180              0   \n",
       "1      7242     2.0           0     0  ...      7        2170            400   \n",
       "2     10000     1.0           0     0  ...      6         770              0   \n",
       "3      5000     1.0           0     0  ...      7        1050            910   \n",
       "4      8080     1.0           0     0  ...      8        1680              0   \n",
       "\n",
       "   yr_built  yr_renovated  zipcode      lat     long  sqft_living15  \\\n",
       "0      1955             0    98178  47.5112 -122.257           1340   \n",
       "1      1951          1991    98125  47.7210 -122.319           1690   \n",
       "2      1933             0    98028  47.7379 -122.233           2720   \n",
       "3      1965             0    98136  47.5208 -122.393           1360   \n",
       "4      1987             0    98074  47.6168 -122.045           1800   \n",
       "\n",
       "   sqft_lot15  \n",
       "0        5650  \n",
       "1        7639  \n",
       "2        8062  \n",
       "3        5000  \n",
       "4        7503  \n",
       "\n",
       "[5 rows x 21 columns]"
      ]
     },
     "execution_count": 2,
     "metadata": {},
     "output_type": "execute_result"
    }
   ],
   "source": [
    "# Download latest version\n",
    "path = kagglehub.dataset_download(\"harlfoxem/housesalesprediction\")\n",
    "\n",
    "print(\"Path to dataset files:\", path)\n",
    "\n",
    "df = pd.read_csv(f'{path}/kc_house_data.csv')\n",
    "df.head()"
   ]
  },
  {
   "cell_type": "code",
   "execution_count": 3,
   "metadata": {
    "colab": {
     "base_uri": "https://localhost:8080/"
    },
    "id": "_1tojSsK01Ks",
    "outputId": "ecf6b891-5cc9-4729-901c-cee514c997dc"
   },
   "outputs": [
    {
     "name": "stdout",
     "output_type": "stream",
     "text": [
      "Linhas: 21613. Colunas: 7\n"
     ]
    }
   ],
   "source": [
    "df = df[['id', 'date', 'price', 'bedrooms', 'bathrooms', 'sqft_living', 'sqft_lot', 'floors', 'waterfront']]\n",
    "\n",
    "colunas_para_remover = ['id', 'date']\n",
    "df = df.drop(colunas_para_remover, axis=1)\n",
    "\n",
    "rows, cols = df.shape\n",
    "print(f'Linhas: {rows}. Colunas: {cols}')"
   ]
  },
  {
   "cell_type": "code",
   "execution_count": 4,
   "metadata": {
    "id": "pZbQ9DkO08G8"
   },
   "outputs": [],
   "source": [
    "x = df.drop('price', axis=1)\n",
    "y = df['price']"
   ]
  },
  {
   "cell_type": "code",
   "execution_count": 5,
   "metadata": {
    "id": "8bQ42fDW1BZ0"
   },
   "outputs": [],
   "source": [
    "# normalização dos dados\n",
    "min_max_scaler = StandardScaler()\n",
    "x = min_max_scaler.fit_transform(x)"
   ]
  },
  {
   "cell_type": "code",
   "execution_count": 6,
   "metadata": {
    "id": "0k8ja90G1LVz"
   },
   "outputs": [],
   "source": [
    "def split_data(x, y):\n",
    "  x_train, x_test, y_train, y_test = train_test_split(x, y, test_size=0.3, random_state=23)\n",
    "  return x_train, x_test, y_train, y_test\n",
    "\n",
    "x_train, x_test, y_train, y_test = split_data(x, y)"
   ]
  },
  {
   "cell_type": "markdown",
   "metadata": {
    "id": "1R28AQxp6Hp1"
   },
   "source": [
    "## **4. Modelagem**"
   ]
  },
  {
   "cell_type": "markdown",
   "metadata": {
    "id": "PJsywEzL2Gww"
   },
   "source": [
    "### **4.1. Regressão Linear**"
   ]
  },
  {
   "cell_type": "code",
   "execution_count": 7,
   "metadata": {
    "id": "MJh3ss0e12EK"
   },
   "outputs": [
    {
     "data": {
      "text/plain": [
       "array([339787.72516888, 496097.56712117, 451556.91355731, ...,\n",
       "       382826.8045208 , 421748.78733606, 992017.84300191])"
      ]
     },
     "execution_count": 7,
     "metadata": {},
     "output_type": "execute_result"
    }
   ],
   "source": [
    "def linear_regression_predict(x_train, y_train, x_test):\n",
    "  model = LinearRegression()\n",
    "  model.fit(x_train, y_train)\n",
    "  y_pred = model.predict(x_test)\n",
    "  return y_pred\n",
    "\n",
    "y_pred = linear_regression_predict(x_train, y_train, x_test)\n",
    "y_pred"
   ]
  },
  {
   "cell_type": "code",
   "execution_count": 8,
   "metadata": {
    "colab": {
     "base_uri": "https://localhost:8080/"
    },
    "id": "lU6DiAzP14OS",
    "outputId": "001ac396-ff22-43ba-d6bf-864cec73ca07"
   },
   "outputs": [
    {
     "name": "stdout",
     "output_type": "stream",
     "text": [
      "{'MAE': 165904.0651045974, 'MSE': 58290430743.82154, 'RMSE': 241434.11263494132, 'MAPE': 0.3468906172169916}\n"
     ]
    }
   ],
   "source": [
    "def calculate_metrics(y_test, y_pred):\n",
    "  mae = mean_absolute_error(y_test, y_pred)\n",
    "  mse = mean_squared_error(y_test, y_pred)\n",
    "  rmse = np.sqrt(mse)\n",
    "  mape = mean_absolute_percentage_error(y_test, y_pred)\n",
    "\n",
    "  metrics = {\n",
    "      'MAE': mae,\n",
    "      'MSE': mse,\n",
    "      'RMSE': rmse,\n",
    "      'MAPE': mape\n",
    "  }\n",
    "\n",
    "  return metrics\n",
    "\n",
    "print(calculate_metrics(y_test, y_pred))"
   ]
  },
  {
   "cell_type": "markdown",
   "metadata": {
    "id": "1LspeCo62XE5"
   },
   "source": [
    "### **4.2. KNN Regressor**"
   ]
  },
  {
   "cell_type": "code",
   "execution_count": 9,
   "metadata": {
    "colab": {
     "base_uri": "https://localhost:8080/"
    },
    "id": "MvW-E6BA2RLx",
    "outputId": "cc9f151e-c323-446b-984f-641b660d74ec"
   },
   "outputs": [
    {
     "name": "stdout",
     "output_type": "stream",
     "text": [
      "{'MAE': 160510.7450030845, 'MSE': 60204595255.74538, 'RMSE': 245366.24718111777, 'MAPE': 0.33017072836739464}\n"
     ]
    }
   ],
   "source": [
    "def knn_regressor_predict(x_train, y_train, x_test):\n",
    "  model = KNeighborsRegressor(n_neighbors=5, metric='euclidean')\n",
    "  model.fit(x_train, y_train)\n",
    "  y_pred = model.predict(x_test)\n",
    "  return y_pred\n",
    "\n",
    "y_pred = knn_regressor_predict(x_train, y_train, x_test)\n",
    "\n",
    "print(calculate_metrics(y_test, y_pred))"
   ]
  },
  {
   "cell_type": "markdown",
   "metadata": {
    "id": "AYgpfpX42cE2"
   },
   "source": [
    "### **4.3. SVR**"
   ]
  },
  {
   "cell_type": "code",
   "execution_count": 10,
   "metadata": {
    "colab": {
     "base_uri": "https://localhost:8080/"
    },
    "id": "Yqy9or3J2Z_Y",
    "outputId": "8d3c3da7-908b-46a9-f553-c2372adcab3d"
   },
   "outputs": [
    {
     "name": "stdout",
     "output_type": "stream",
     "text": [
      "{'MAE': 219091.7766652537, 'MSE': 130199624138.9766, 'RMSE': 360831.85022802046, 'MAPE': 0.4214532788664194}\n"
     ]
    }
   ],
   "source": [
    "def svr_predict(x_train, y_train, x_test):\n",
    "  model = SVR()\n",
    "  model.fit(x_train, y_train)\n",
    "  y_pred = model.predict(x_test)\n",
    "  return y_pred\n",
    "\n",
    "y_pred = svr_predict(x_train, y_train, x_test)\n",
    "print(calculate_metrics(y_test, y_pred))"
   ]
  },
  {
   "cell_type": "code",
   "execution_count": 11,
   "metadata": {
    "colab": {
     "base_uri": "https://localhost:8080/"
    },
    "id": "y-aLFEi22ipY",
    "outputId": "e870951a-16de-4a76-a7af-d425bc12f408"
   },
   "outputs": [
    {
     "name": "stdout",
     "output_type": "stream",
     "text": [
      "{'MAE': 219091.7766652537, 'MSE': 130199624138.9766, 'RMSE': 360831.85022802046, 'MAPE': 0.4214532788664194}\n"
     ]
    }
   ],
   "source": [
    "def svr_predict(x_train, y_train, x_test):\n",
    "  model = SVR(kernel='linear', C=100)\n",
    "  model.fit(x_train, y_train)\n",
    "  y_pred = model.predict(x_test)\n",
    "  return y_pred\n",
    "\n",
    "pred = svr_predict(x_train, y_train, x_test)\n",
    "print(calculate_metrics(y_test, y_pred))"
   ]
  },
  {
   "cell_type": "markdown",
   "metadata": {
    "id": "HyjjMloi2sjO"
   },
   "source": [
    "### **4.4. Regressão de Árvore de Decisão**"
   ]
  },
  {
   "cell_type": "code",
   "execution_count": 12,
   "metadata": {
    "colab": {
     "base_uri": "https://localhost:8080/"
    },
    "id": "K1dqTg4Q2ngI",
    "outputId": "492ae886-7e6e-4ad9-fb0f-fae143fa5648"
   },
   "outputs": [
    {
     "name": "stdout",
     "output_type": "stream",
     "text": [
      "{'MAE': 204735.44856570018, 'MSE': 98747957114.20381, 'RMSE': 314241.8767672504, 'MAPE': 0.41016793168994864}\n"
     ]
    }
   ],
   "source": [
    "def decision_tree_predict(x_train, y_train, x_test):\n",
    "  model = DecisionTreeRegressor()\n",
    "  model.fit(x_train, y_train)\n",
    "  y_pred = model.predict(x_test)\n",
    "  return y_pred\n",
    "\n",
    "y_pred = decision_tree_predict(x_train, y_train, x_test)\n",
    "print(calculate_metrics(y_test, y_pred))"
   ]
  },
  {
   "cell_type": "markdown",
   "metadata": {
    "id": "8O8cMfV427Q3"
   },
   "source": [
    "### **4.5. XGBoost**"
   ]
  },
  {
   "cell_type": "code",
   "execution_count": 13,
   "metadata": {
    "colab": {
     "base_uri": "https://localhost:8080/"
    },
    "id": "_tryV5wL2wBH",
    "outputId": "3903ae88-090b-447e-a604-f38e3e348c7b"
   },
   "outputs": [
    {
     "name": "stdout",
     "output_type": "stream",
     "text": [
      "{'MAE': 151281.9136359693, 'MSE': 54032402381.69808, 'RMSE': 232448.70914181924, 'MAPE': 0.3115478188030054}\n"
     ]
    }
   ],
   "source": [
    "def xgboost_predict(x_train, y_train, x_test):\n",
    "  model = XGBRegressor()\n",
    "  model.fit(x_train, y_train)\n",
    "  y_pred = model.predict(x_test)\n",
    "  return y_pred\n",
    "\n",
    "y_pred = xgboost_predict(x_train, y_train, x_test)\n",
    "print(calculate_metrics(y_test, y_pred))"
   ]
  },
  {
   "cell_type": "code",
   "execution_count": 14,
   "metadata": {
    "colab": {
     "base_uri": "https://localhost:8080/"
    },
    "id": "qD4TbzLb21X3",
    "outputId": "93f48b4f-4c91-40ff-c564-f553041e7e7b"
   },
   "outputs": [
    {
     "name": "stdout",
     "output_type": "stream",
     "text": [
      "{'MAE': 147379.14162505785, 'MSE': 50099948746.49795, 'RMSE': 223830.17836408466, 'MAPE': 0.30671574201583884}\n"
     ]
    }
   ],
   "source": [
    "params = {\"n_estimators\": 100,\n",
    "           \"max_depth\": 6,\n",
    "           \"learning_rate\": 0.1}\n",
    "\n",
    "def xgboost_predict(x_train, y_train, x_test):\n",
    "  model = XGBRegressor(**params)\n",
    "  model.fit(x_train, y_train)\n",
    "  y_pred = model.predict(x_test)\n",
    "  return y_pred\n",
    "\n",
    "y_pred = xgboost_predict(x_train, y_train, x_test)\n",
    "print(calculate_metrics(y_test, y_pred))"
   ]
  },
  {
   "cell_type": "markdown",
   "metadata": {
    "id": "yB33c7EAbk0i"
   },
   "source": [
    "## **5. Automatização do Treino e Validação**"
   ]
  },
  {
   "cell_type": "code",
   "execution_count": 17,
   "metadata": {
    "colab": {
     "base_uri": "https://localhost:8080/"
    },
    "id": "jvblwdZ2bmZN",
    "outputId": "f04f0058-4653-480f-8663-5a22b5f418d0"
   },
   "outputs": [
    {
     "name": "stdout",
     "output_type": "stream",
     "text": [
      "Treinando modelo: Regressão Linear\n",
      "Treinando modelo: KNN\n",
      "Treinando modelo: SVR\n",
      "Treinando modelo: Árvore de Decisão\n",
      "Treinando modelo: XGBoost\n",
      "              Modelo            MAE      MAPE           MSE           RMSE  \\\n",
      "0   Regressão Linear  165904.065105  0.346891  5.829043e+10  241434.112635   \n",
      "1                KNN  160295.107557  0.329886  6.008402e+10  245120.425500   \n",
      "2                SVR  219095.949913  0.421456  1.302043e+11  360838.284089   \n",
      "3  Árvore de Decisão  204916.858729  0.411723  9.787397e+10  312848.152681   \n",
      "4            XGBoost  151281.913636  0.311548  5.403240e+10  232448.709142   \n",
      "\n",
      "         R²  \n",
      "0  0.525175  \n",
      "1  0.510565  \n",
      "2 -0.060624  \n",
      "3  0.202734  \n",
      "4  0.559860  \n"
     ]
    }
   ],
   "source": [
    "def load_and_prepare_data():\n",
    "    # Download do dataset (se necessário) - Adapte o caminho conforme sua necessidade\n",
    "    path = kagglehub.dataset_download(\"harlfoxem/housesalesprediction\")\n",
    "    df = pd.read_csv(f'{path}/kc_house_data.csv')\n",
    "\n",
    "    df = df[['price', 'bedrooms', 'bathrooms', 'sqft_living', 'sqft_lot', 'floors', 'waterfront']]\n",
    "\n",
    "    # Separando features e target\n",
    "    X = df.drop('price', axis=1)\n",
    "    y = df['price']\n",
    "\n",
    "    # Dividindo em treino e teste\n",
    "    X_train, X_test, y_train, y_test = train_test_split(X, y, test_size=0.3, random_state=23)\n",
    "\n",
    "    # Normalizando os dados\n",
    "    scaler = StandardScaler()\n",
    "    X_train = scaler.fit_transform(X_train)\n",
    "    X_test = scaler.transform(X_test)\n",
    "\n",
    "    return X_train, X_test, y_train, y_test\n",
    "\n",
    "\n",
    "def train_and_evaluate_models(models, X_train, X_test, y_train, y_test):\n",
    "    results = []\n",
    "\n",
    "    for name, model in models.items():\n",
    "        print(f\"Treinando modelo: {name}\")\n",
    "        model.fit(X_train, y_train)\n",
    "        y_pred = model.predict(X_test)\n",
    "\n",
    "        metrics = {\n",
    "            \"Modelo\": name,\n",
    "            \"MAE\": mean_absolute_error(y_test, y_pred),\n",
    "            \"MAPE\": mean_absolute_percentage_error(y_test, y_pred),\n",
    "            \"MSE\": mean_squared_error(y_test, y_pred),\n",
    "            \"RMSE\": np.sqrt(mean_squared_error(y_test, y_pred)),\n",
    "            \"R²\": r2_score(y_test, y_pred)\n",
    "        }\n",
    "\n",
    "        results.append(metrics)\n",
    "\n",
    "    return pd.DataFrame(results)\n",
    "\n",
    "models = {\n",
    "    \"Regressão Linear\": LinearRegression(),\n",
    "    \"KNN\": KNeighborsRegressor(n_neighbors=5, metric='euclidean'),\n",
    "    \"SVR\": SVR(),\n",
    "    \"Árvore de Decisão\": DecisionTreeRegressor(),\n",
    "    \"XGBoost\": XGBRegressor()\n",
    "}\n",
    "\n",
    "# Carregar os dados\n",
    "X_train, X_test, y_train, y_test = load_and_prepare_data()\n",
    "\n",
    "# Treinar e avaliar os modelos\n",
    "df_results = train_and_evaluate_models(models, X_train, X_test, y_train, y_test)\n",
    "\n",
    "# Exibir resultados\n",
    "print(df_results)"
   ]
  }
 ],
 "metadata": {
  "colab": {
   "authorship_tag": "ABX9TyPJKLq2NR5Ayu1Ykr0CIjgR",
   "include_colab_link": true,
   "provenance": []
  },
  "kernelspec": {
   "display_name": "Python 3 (ipykernel)",
   "language": "python",
   "name": "python3"
  },
  "language_info": {
   "codemirror_mode": {
    "name": "ipython",
    "version": 3
   },
   "file_extension": ".py",
   "mimetype": "text/x-python",
   "name": "python",
   "nbconvert_exporter": "python",
   "pygments_lexer": "ipython3",
   "version": "3.11.6"
  }
 },
 "nbformat": 4,
 "nbformat_minor": 4
}
